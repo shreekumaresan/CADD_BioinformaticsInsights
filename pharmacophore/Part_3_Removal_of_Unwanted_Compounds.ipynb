{
  "cells": [
    {
      "cell_type": "markdown",
      "metadata": {
        "id": "Nb5zt_FjH_mU"
      },
      "source": [
        "# **Removal of the Unwanted Compounds From the Dataset**\n",
        "My name is **Dr. Ashfaq Ahmad**, and this tutorial is inspired from the TechOpenCADD project of Volkamer Lab. With some minor modifications, I tried to made it available for the students working with a Biology background. For Proper understanding and learning, you can follow the video tutorial on **Bioinformatics Insights** https://www.youtube.com/channel/UC2Z_WaqTjbvXGGQNpIF9nAg\n",
        "\n",
        "This notebook is majorly designed for teaching purposes.\n",
        "\n",
        "For citation and reading, https://jcheminf.biomedcentral.com/articles/10.1186/s13321-019-0351-x"
      ]
    },
    {
      "cell_type": "markdown",
      "metadata": {
        "id": "En2xq63UH_mg"
      },
      "source": [
        "## Aim of this talktorial\n",
        "\n",
        "There are some substructures we prefer not to include into our screening library. In this talktorial, we learn about different types of such unwanted substructures and how to find, highlight and remove them with RDKit."
      ]
    },
    {
      "cell_type": "markdown",
      "metadata": {
        "id": "cp377q3IH_mi"
      },
      "source": [
        "### Contents in Learn\n",
        "\n",
        "* Load and visualize data\n",
        "* Filter for PAINS\n",
        "* Filter for unwanted substructures\n",
        "* Highlight substructures\n",
        "* Substructure statistics"
      ]
    },
    {
      "cell_type": "markdown",
      "metadata": {
        "id": "KiVmADpeH_mi"
      },
      "source": [
        "### References\n",
        "\n",
        "* Pan Assay Interference compounds ([wikipedia](https://en.wikipedia.org/wiki/Pan-assay_interference_compounds), [_J. Med. Chem._ (2010), **53**, 2719-2740](https://pubs.acs.org/doi/abs/10.1021/jm901137j))\n",
        "* Unwanted substructures according to Brenk *et al.* ([_Chem. Med. Chem._ (2008), **3**, 435-44](https://onlinelibrary.wiley.com/doi/full/10.1002/cmdc.200700139))\n",
        "* Inspired by a Teach-Discover-Treat tutorial ([repository](https://github.com/sriniker/TDT-tutorial-2014/blob/master/TDT_challenge_tutorial.ipynb))\n",
        "* RDKit ([repository](https://github.com/rdkit/rdkit), [documentation](https://www.rdkit.org/docs/index.html))"
      ]
    },
    {
      "cell_type": "markdown",
      "metadata": {
        "id": "CiD49aCIH_mj"
      },
      "source": [
        "## **Basic Concepts**"
      ]
    },
    {
      "cell_type": "markdown",
      "metadata": {
        "id": "RDH1dvyJH_mk"
      },
      "source": [
        "### Unwanted substructures\n",
        "\n",
        "Substructures can be unfavorable, e.g., because they are toxic or reactive, due to unfavorable pharmacokinetic properties, or because they likely interfere with certain assays.\n",
        "Nowadays, drug discovery campaigns often involve [high throughput screening](https://en.wikipedia.org/wiki/High-throughput_screening). Filtering unwanted substructures can support assembling more efficient screening libraries, which can save time and resources.\n",
        "\n",
        "Brenk *et al.* ([_Chem. Med. Chem._ (2008), **3**, 435-44](https://onlinelibrary.wiley.com/doi/full/10.1002/cmdc.200700139)) have assembled a list of unfavorable substructures to filter their libraries used to screen for compounds to treat neglected diseases. Examples of such unwanted features are nitro groups (mutagenic), sulfates and phosphates (likely resulting in unfavorable pharmacokinetic properties), 2-halopyridines and thiols (reactive). This list of undesired substructures was published in the above mentioned paper and will be used in the practical part of this talktorial."
      ]
    },
    {
      "cell_type": "markdown",
      "metadata": {
        "id": "APotSzjKH_ml"
      },
      "source": [
        "### Pan Assay Interference Compounds (PAINS)\n",
        "\n",
        "1.   List item\n",
        "2.   List item\n",
        "\n",
        "\n",
        "\n",
        "[PAINS](https://en.wikipedia.org/wiki/Pan-assay_interference_compounds) are compounds that often occur as hits in HTS even though they actually are false positives. PAINS show activity at numerous targets rather than one specific target. Such behavior results from unspecific binding or interaction with assay components. Baell *et al.* ([_J. Med. Chem._ (2010), **53**, 2719-2740](https://pubs.acs.org/doi/abs/10.1021/jm901137j)) focused on substructures interfering in assay signaling. They described substructures which can help to identify such PAINS and provided a list which can be used for substructure filtering.\n",
        "\n",
        "![PAINS](https://github.com/volkamerlab/teachopencadd/blob/master/teachopencadd/talktorials/T003_compound_unwanted_substructures/images/PAINS_Figure.jpeg?raw=1)\n",
        "\n",
        "Figure 1: Specific and unspecific binding in the context of PAINS. Figure taken from [Wikipedia](https://commons.wikimedia.org/wiki/File:PAINS_Figure.tif)."
      ]
    },
    {
      "cell_type": "markdown",
      "metadata": {
        "id": "kgDuF0y1H_mm"
      },
      "source": [
        "## Practical"
      ]
    },
    {
      "cell_type": "markdown",
      "metadata": {
        "id": "v9sMF3BoH_mn"
      },
      "source": [
        "### Load and visualize data"
      ]
    },
    {
      "cell_type": "markdown",
      "metadata": {
        "id": "cVFXOfg8H_mn"
      },
      "source": [
        "###Installation and Imports"
      ]
    },
    {
      "cell_type": "code",
      "source": [
        "! pip install rdkit-pypi\n"
      ],
      "metadata": {
        "id": "yEKUwQMOJPiY",
        "outputId": "b6768bd7-d792-44e8-a14d-0b53670d501e",
        "colab": {
          "base_uri": "https://localhost:8080/"
        }
      },
      "execution_count": 1,
      "outputs": [
        {
          "output_type": "stream",
          "name": "stdout",
          "text": [
            "Collecting rdkit-pypi\n",
            "  Downloading rdkit_pypi-2022.9.5-cp311-cp311-manylinux_2_17_x86_64.manylinux2014_x86_64.whl.metadata (3.9 kB)\n",
            "Requirement already satisfied: numpy in /usr/local/lib/python3.11/dist-packages (from rdkit-pypi) (1.26.4)\n",
            "Requirement already satisfied: Pillow in /usr/local/lib/python3.11/dist-packages (from rdkit-pypi) (11.1.0)\n",
            "Downloading rdkit_pypi-2022.9.5-cp311-cp311-manylinux_2_17_x86_64.manylinux2014_x86_64.whl (29.4 MB)\n",
            "\u001b[2K   \u001b[90m━━━━━━━━━━━━━━━━━━━━━━━━━━━━━━━━━━━━━━━━\u001b[0m \u001b[32m29.4/29.4 MB\u001b[0m \u001b[31m57.8 MB/s\u001b[0m eta \u001b[36m0:00:00\u001b[0m\n",
            "\u001b[?25hInstalling collected packages: rdkit-pypi\n",
            "Successfully installed rdkit-pypi-2022.9.5\n"
          ]
        }
      ]
    },
    {
      "cell_type": "code",
      "execution_count": 2,
      "metadata": {
        "id": "yOjtrOZsH_mo",
        "outputId": "86b2c4f1-f507-49cf-dbe2-60efb1d8e2af",
        "colab": {
          "base_uri": "https://localhost:8080/"
        }
      },
      "outputs": [
        {
          "output_type": "stream",
          "name": "stderr",
          "text": [
            "Failed to find the pandas get_adjustment() function to patch\n",
            "Failed to patch pandas - PandasTools will have limited functionality\n"
          ]
        }
      ],
      "source": [
        "from pathlib import Path\n",
        "\n",
        "import pandas as pd\n",
        "from tqdm.auto import tqdm\n",
        "from rdkit import Chem\n",
        "from rdkit.Chem import PandasTools\n",
        "from rdkit.Chem.FilterCatalog import FilterCatalog, FilterCatalogParams"
      ]
    },
    {
      "cell_type": "code",
      "execution_count": 3,
      "metadata": {
        "scrolled": true,
        "id": "VjBReTuPH_mr",
        "outputId": "45dc1afb-702c-400a-b4dc-1c918ced0bfb",
        "colab": {
          "base_uri": "https://localhost:8080/",
          "height": 224
        }
      },
      "outputs": [
        {
          "output_type": "stream",
          "name": "stdout",
          "text": [
            "Dataframe shape: (88, 10)\n"
          ]
        },
        {
          "output_type": "execute_result",
          "data": {
            "text/plain": [
              "   molecule_chembl_id   IC50 units  \\\n",
              "1       CHEMBL4207145  0.012    nM   \n",
              "2        CHEMBL571882  0.012    nM   \n",
              "4       CHEMBL3706613  0.040    nM   \n",
              "8       CHEMBL4228791  0.220    nM   \n",
              "10      CHEMBL3694382  0.280    nM   \n",
              "\n",
              "                                               smiles      pIC50  \\\n",
              "1   CC(C)CN(C[C@@H](O)[C@H](Cc1cc(F)cc(F)c1)NC(=O)...  10.920819   \n",
              "2   COc1ccc2c(c1)OCC/C=C\\CCCCN(C[C@@H](O)[C@H](Cc1...  10.920819   \n",
              "4   CC(C)(c1ncc(-c2cccnc2)o1)N1CCN(C[C@@H](O)C[C@@...  10.397940   \n",
              "8   C=C[C@@H]1C[C@]1(NC(=O)[C@@H]1C[C@@H](Oc2nccc3...   9.657577   \n",
              "10  COc1ccc(CNCCc2cc(OC)c(NC(=O)Nc3cnc(C#N)cn3)cc2...   9.552842   \n",
              "\n",
              "    ro5_fulfilled  \n",
              "1            True  \n",
              "2            True  \n",
              "4            True  \n",
              "8            True  \n",
              "10           True  "
            ],
            "text/html": [
              "\n",
              "  <div id=\"df-14b7870d-f0af-4a81-b160-42c0449f0c5b\" class=\"colab-df-container\">\n",
              "    <div>\n",
              "<style scoped>\n",
              "    .dataframe tbody tr th:only-of-type {\n",
              "        vertical-align: middle;\n",
              "    }\n",
              "\n",
              "    .dataframe tbody tr th {\n",
              "        vertical-align: top;\n",
              "    }\n",
              "\n",
              "    .dataframe thead th {\n",
              "        text-align: right;\n",
              "    }\n",
              "</style>\n",
              "<table border=\"1\" class=\"dataframe\">\n",
              "  <thead>\n",
              "    <tr style=\"text-align: right;\">\n",
              "      <th></th>\n",
              "      <th>molecule_chembl_id</th>\n",
              "      <th>IC50</th>\n",
              "      <th>units</th>\n",
              "      <th>smiles</th>\n",
              "      <th>pIC50</th>\n",
              "      <th>ro5_fulfilled</th>\n",
              "    </tr>\n",
              "  </thead>\n",
              "  <tbody>\n",
              "    <tr>\n",
              "      <th>1</th>\n",
              "      <td>CHEMBL4207145</td>\n",
              "      <td>0.012</td>\n",
              "      <td>nM</td>\n",
              "      <td>CC(C)CN(C[C@@H](O)[C@H](Cc1cc(F)cc(F)c1)NC(=O)...</td>\n",
              "      <td>10.920819</td>\n",
              "      <td>True</td>\n",
              "    </tr>\n",
              "    <tr>\n",
              "      <th>2</th>\n",
              "      <td>CHEMBL571882</td>\n",
              "      <td>0.012</td>\n",
              "      <td>nM</td>\n",
              "      <td>COc1ccc2c(c1)OCC/C=C\\CCCCN(C[C@@H](O)[C@H](Cc1...</td>\n",
              "      <td>10.920819</td>\n",
              "      <td>True</td>\n",
              "    </tr>\n",
              "    <tr>\n",
              "      <th>4</th>\n",
              "      <td>CHEMBL3706613</td>\n",
              "      <td>0.040</td>\n",
              "      <td>nM</td>\n",
              "      <td>CC(C)(c1ncc(-c2cccnc2)o1)N1CCN(C[C@@H](O)C[C@@...</td>\n",
              "      <td>10.397940</td>\n",
              "      <td>True</td>\n",
              "    </tr>\n",
              "    <tr>\n",
              "      <th>8</th>\n",
              "      <td>CHEMBL4228791</td>\n",
              "      <td>0.220</td>\n",
              "      <td>nM</td>\n",
              "      <td>C=C[C@@H]1C[C@]1(NC(=O)[C@@H]1C[C@@H](Oc2nccc3...</td>\n",
              "      <td>9.657577</td>\n",
              "      <td>True</td>\n",
              "    </tr>\n",
              "    <tr>\n",
              "      <th>10</th>\n",
              "      <td>CHEMBL3694382</td>\n",
              "      <td>0.280</td>\n",
              "      <td>nM</td>\n",
              "      <td>COc1ccc(CNCCc2cc(OC)c(NC(=O)Nc3cnc(C#N)cn3)cc2...</td>\n",
              "      <td>9.552842</td>\n",
              "      <td>True</td>\n",
              "    </tr>\n",
              "  </tbody>\n",
              "</table>\n",
              "</div>\n",
              "    <div class=\"colab-df-buttons\">\n",
              "\n",
              "  <div class=\"colab-df-container\">\n",
              "    <button class=\"colab-df-convert\" onclick=\"convertToInteractive('df-14b7870d-f0af-4a81-b160-42c0449f0c5b')\"\n",
              "            title=\"Convert this dataframe to an interactive table.\"\n",
              "            style=\"display:none;\">\n",
              "\n",
              "  <svg xmlns=\"http://www.w3.org/2000/svg\" height=\"24px\" viewBox=\"0 -960 960 960\">\n",
              "    <path d=\"M120-120v-720h720v720H120Zm60-500h600v-160H180v160Zm220 220h160v-160H400v160Zm0 220h160v-160H400v160ZM180-400h160v-160H180v160Zm440 0h160v-160H620v160ZM180-180h160v-160H180v160Zm440 0h160v-160H620v160Z\"/>\n",
              "  </svg>\n",
              "    </button>\n",
              "\n",
              "  <style>\n",
              "    .colab-df-container {\n",
              "      display:flex;\n",
              "      gap: 12px;\n",
              "    }\n",
              "\n",
              "    .colab-df-convert {\n",
              "      background-color: #E8F0FE;\n",
              "      border: none;\n",
              "      border-radius: 50%;\n",
              "      cursor: pointer;\n",
              "      display: none;\n",
              "      fill: #1967D2;\n",
              "      height: 32px;\n",
              "      padding: 0 0 0 0;\n",
              "      width: 32px;\n",
              "    }\n",
              "\n",
              "    .colab-df-convert:hover {\n",
              "      background-color: #E2EBFA;\n",
              "      box-shadow: 0px 1px 2px rgba(60, 64, 67, 0.3), 0px 1px 3px 1px rgba(60, 64, 67, 0.15);\n",
              "      fill: #174EA6;\n",
              "    }\n",
              "\n",
              "    .colab-df-buttons div {\n",
              "      margin-bottom: 4px;\n",
              "    }\n",
              "\n",
              "    [theme=dark] .colab-df-convert {\n",
              "      background-color: #3B4455;\n",
              "      fill: #D2E3FC;\n",
              "    }\n",
              "\n",
              "    [theme=dark] .colab-df-convert:hover {\n",
              "      background-color: #434B5C;\n",
              "      box-shadow: 0px 1px 3px 1px rgba(0, 0, 0, 0.15);\n",
              "      filter: drop-shadow(0px 1px 2px rgba(0, 0, 0, 0.3));\n",
              "      fill: #FFFFFF;\n",
              "    }\n",
              "  </style>\n",
              "\n",
              "    <script>\n",
              "      const buttonEl =\n",
              "        document.querySelector('#df-14b7870d-f0af-4a81-b160-42c0449f0c5b button.colab-df-convert');\n",
              "      buttonEl.style.display =\n",
              "        google.colab.kernel.accessAllowed ? 'block' : 'none';\n",
              "\n",
              "      async function convertToInteractive(key) {\n",
              "        const element = document.querySelector('#df-14b7870d-f0af-4a81-b160-42c0449f0c5b');\n",
              "        const dataTable =\n",
              "          await google.colab.kernel.invokeFunction('convertToInteractive',\n",
              "                                                    [key], {});\n",
              "        if (!dataTable) return;\n",
              "\n",
              "        const docLinkHtml = 'Like what you see? Visit the ' +\n",
              "          '<a target=\"_blank\" href=https://colab.research.google.com/notebooks/data_table.ipynb>data table notebook</a>'\n",
              "          + ' to learn more about interactive tables.';\n",
              "        element.innerHTML = '';\n",
              "        dataTable['output_type'] = 'display_data';\n",
              "        await google.colab.output.renderOutput(dataTable, element);\n",
              "        const docLink = document.createElement('div');\n",
              "        docLink.innerHTML = docLinkHtml;\n",
              "        element.appendChild(docLink);\n",
              "      }\n",
              "    </script>\n",
              "  </div>\n",
              "\n",
              "\n",
              "<div id=\"df-c5d9abc7-ed85-4671-bd64-d0818d96a894\">\n",
              "  <button class=\"colab-df-quickchart\" onclick=\"quickchart('df-c5d9abc7-ed85-4671-bd64-d0818d96a894')\"\n",
              "            title=\"Suggest charts\"\n",
              "            style=\"display:none;\">\n",
              "\n",
              "<svg xmlns=\"http://www.w3.org/2000/svg\" height=\"24px\"viewBox=\"0 0 24 24\"\n",
              "     width=\"24px\">\n",
              "    <g>\n",
              "        <path d=\"M19 3H5c-1.1 0-2 .9-2 2v14c0 1.1.9 2 2 2h14c1.1 0 2-.9 2-2V5c0-1.1-.9-2-2-2zM9 17H7v-7h2v7zm4 0h-2V7h2v10zm4 0h-2v-4h2v4z\"/>\n",
              "    </g>\n",
              "</svg>\n",
              "  </button>\n",
              "\n",
              "<style>\n",
              "  .colab-df-quickchart {\n",
              "      --bg-color: #E8F0FE;\n",
              "      --fill-color: #1967D2;\n",
              "      --hover-bg-color: #E2EBFA;\n",
              "      --hover-fill-color: #174EA6;\n",
              "      --disabled-fill-color: #AAA;\n",
              "      --disabled-bg-color: #DDD;\n",
              "  }\n",
              "\n",
              "  [theme=dark] .colab-df-quickchart {\n",
              "      --bg-color: #3B4455;\n",
              "      --fill-color: #D2E3FC;\n",
              "      --hover-bg-color: #434B5C;\n",
              "      --hover-fill-color: #FFFFFF;\n",
              "      --disabled-bg-color: #3B4455;\n",
              "      --disabled-fill-color: #666;\n",
              "  }\n",
              "\n",
              "  .colab-df-quickchart {\n",
              "    background-color: var(--bg-color);\n",
              "    border: none;\n",
              "    border-radius: 50%;\n",
              "    cursor: pointer;\n",
              "    display: none;\n",
              "    fill: var(--fill-color);\n",
              "    height: 32px;\n",
              "    padding: 0;\n",
              "    width: 32px;\n",
              "  }\n",
              "\n",
              "  .colab-df-quickchart:hover {\n",
              "    background-color: var(--hover-bg-color);\n",
              "    box-shadow: 0 1px 2px rgba(60, 64, 67, 0.3), 0 1px 3px 1px rgba(60, 64, 67, 0.15);\n",
              "    fill: var(--button-hover-fill-color);\n",
              "  }\n",
              "\n",
              "  .colab-df-quickchart-complete:disabled,\n",
              "  .colab-df-quickchart-complete:disabled:hover {\n",
              "    background-color: var(--disabled-bg-color);\n",
              "    fill: var(--disabled-fill-color);\n",
              "    box-shadow: none;\n",
              "  }\n",
              "\n",
              "  .colab-df-spinner {\n",
              "    border: 2px solid var(--fill-color);\n",
              "    border-color: transparent;\n",
              "    border-bottom-color: var(--fill-color);\n",
              "    animation:\n",
              "      spin 1s steps(1) infinite;\n",
              "  }\n",
              "\n",
              "  @keyframes spin {\n",
              "    0% {\n",
              "      border-color: transparent;\n",
              "      border-bottom-color: var(--fill-color);\n",
              "      border-left-color: var(--fill-color);\n",
              "    }\n",
              "    20% {\n",
              "      border-color: transparent;\n",
              "      border-left-color: var(--fill-color);\n",
              "      border-top-color: var(--fill-color);\n",
              "    }\n",
              "    30% {\n",
              "      border-color: transparent;\n",
              "      border-left-color: var(--fill-color);\n",
              "      border-top-color: var(--fill-color);\n",
              "      border-right-color: var(--fill-color);\n",
              "    }\n",
              "    40% {\n",
              "      border-color: transparent;\n",
              "      border-right-color: var(--fill-color);\n",
              "      border-top-color: var(--fill-color);\n",
              "    }\n",
              "    60% {\n",
              "      border-color: transparent;\n",
              "      border-right-color: var(--fill-color);\n",
              "    }\n",
              "    80% {\n",
              "      border-color: transparent;\n",
              "      border-right-color: var(--fill-color);\n",
              "      border-bottom-color: var(--fill-color);\n",
              "    }\n",
              "    90% {\n",
              "      border-color: transparent;\n",
              "      border-bottom-color: var(--fill-color);\n",
              "    }\n",
              "  }\n",
              "</style>\n",
              "\n",
              "  <script>\n",
              "    async function quickchart(key) {\n",
              "      const quickchartButtonEl =\n",
              "        document.querySelector('#' + key + ' button');\n",
              "      quickchartButtonEl.disabled = true;  // To prevent multiple clicks.\n",
              "      quickchartButtonEl.classList.add('colab-df-spinner');\n",
              "      try {\n",
              "        const charts = await google.colab.kernel.invokeFunction(\n",
              "            'suggestCharts', [key], {});\n",
              "      } catch (error) {\n",
              "        console.error('Error during call to suggestCharts:', error);\n",
              "      }\n",
              "      quickchartButtonEl.classList.remove('colab-df-spinner');\n",
              "      quickchartButtonEl.classList.add('colab-df-quickchart-complete');\n",
              "    }\n",
              "    (() => {\n",
              "      let quickchartButtonEl =\n",
              "        document.querySelector('#df-c5d9abc7-ed85-4671-bd64-d0818d96a894 button');\n",
              "      quickchartButtonEl.style.display =\n",
              "        google.colab.kernel.accessAllowed ? 'block' : 'none';\n",
              "    })();\n",
              "  </script>\n",
              "</div>\n",
              "\n",
              "    </div>\n",
              "  </div>\n"
            ],
            "application/vnd.google.colaboratory.intrinsic+json": {
              "type": "dataframe",
              "variable_name": "egfr_data",
              "summary": "{\n  \"name\": \"egfr_data\",\n  \"rows\": 88,\n  \"fields\": [\n    {\n      \"column\": \"molecule_chembl_id\",\n      \"properties\": {\n        \"dtype\": \"string\",\n        \"num_unique_values\": 88,\n        \"samples\": [\n          \"CHEMBL4754108\",\n          \"CHEMBL4207145\",\n          \"CHEMBL3914159\"\n        ],\n        \"semantic_type\": \"\",\n        \"description\": \"\"\n      }\n    },\n    {\n      \"column\": \"IC50\",\n      \"properties\": {\n        \"dtype\": \"number\",\n        \"std\": 24407.404036315813,\n        \"min\": 0.012,\n        \"max\": 180000.0,\n        \"num_unique_values\": 81,\n        \"samples\": [\n          13.0,\n          0.012,\n          6.0\n        ],\n        \"semantic_type\": \"\",\n        \"description\": \"\"\n      }\n    },\n    {\n      \"column\": \"units\",\n      \"properties\": {\n        \"dtype\": \"category\",\n        \"num_unique_values\": 1,\n        \"samples\": [\n          \"nM\"\n        ],\n        \"semantic_type\": \"\",\n        \"description\": \"\"\n      }\n    },\n    {\n      \"column\": \"smiles\",\n      \"properties\": {\n        \"dtype\": \"string\",\n        \"num_unique_values\": 88,\n        \"samples\": [\n          \"CC(C)C[C@@H]1NC(=O)[C@@H](NC(=O)c2cc(OCc3ccccc3)cc(OCc3ccccc3)c2)COCCCCOC[C@@H](C(=O)N(C)C)NC(=O)[C@@H]2CCCN2C(=O)[C@H](C)NC1=O\"\n        ],\n        \"semantic_type\": \"\",\n        \"description\": \"\"\n      }\n    },\n    {\n      \"column\": \"pIC50\",\n      \"properties\": {\n        \"dtype\": \"number\",\n        \"std\": 1.7410295712110375,\n        \"min\": 3.7447274948966935,\n        \"max\": 10.920818753952377,\n        \"num_unique_values\": 81,\n        \"samples\": [\n          7.886056647693163\n        ],\n        \"semantic_type\": \"\",\n        \"description\": \"\"\n      }\n    },\n    {\n      \"column\": \"ro5_fulfilled\",\n      \"properties\": {\n        \"dtype\": \"boolean\",\n        \"num_unique_values\": 1,\n        \"samples\": [\n          true\n        ],\n        \"semantic_type\": \"\",\n        \"description\": \"\"\n      }\n    }\n  ]\n}"
            }
          },
          "metadata": {},
          "execution_count": 3
        }
      ],
      "source": [
        "# Load the data generated in Part-2\n",
        "egfr_data = pd.read_csv('/content/Part2_EGFR_Compounds_with_Lipinski_Descriptors_r05_fulfilled (1).csv',\n",
        "    index_col=0,\n",
        ")\n",
        "# Drop unnecessary information\n",
        "print(\"Dataframe shape:\", egfr_data.shape)\n",
        "egfr_data.drop(columns=[\"molecular_weight\", \"n_hbd\", \"n_hba\", \"logp\"], inplace=True)\n",
        "egfr_data.head()"
      ]
    },
    {
      "cell_type": "code",
      "execution_count": 4,
      "metadata": {
        "scrolled": true,
        "id": "w9a2nd_bH_ms",
        "outputId": "63d5fed6-4593-410a-8b03-8e65ba35b1f9",
        "colab": {
          "base_uri": "https://localhost:8080/",
          "height": 235
        }
      },
      "outputs": [
        {
          "output_type": "stream",
          "name": "stderr",
          "text": [
            "Failed to patch pandas - unable to change molecule rendering\n"
          ]
        },
        {
          "output_type": "execute_result",
          "data": {
            "image/png": "[encoded data removed]",
            "text/plain": [
              "<IPython.core.display.Image object>"
            ]
          },
          "metadata": {},
          "execution_count": 4
        }
      ],
      "source": [
        "# Add molecule column\n",
        "PandasTools.AddMoleculeColumnToFrame(egfr_data, smilesCol=\"smiles\")\n",
        "# Draw first 3 molecules\n",
        "Chem.Draw.MolsToGridImage(\n",
        "    list(egfr_data.head(3).ROMol),\n",
        "    legends=list(egfr_data.head(3).molecule_chembl_id),\n",
        ")"
      ]
    },
    {
      "cell_type": "markdown",
      "metadata": {
        "id": "6JqOlvH7H_mt"
      },
      "source": [
        "### Filter for PAINS\n",
        "\n",
        "The PAINS filter is already implemented in RDKit ([documentation](http://rdkit.org/docs/source/rdkit.Chem.rdfiltercatalog.html)). Such pre-defined filters can be applied via the `FilterCatalog` class. Let's learn how it can be used."
      ]
    },
    {
      "cell_type": "code",
      "execution_count": 5,
      "metadata": {
        "id": "lQrjkurrH_mt"
      },
      "outputs": [],
      "source": [
        "# initialize filter\n",
        "params = FilterCatalogParams()\n",
        "params.AddCatalog(FilterCatalogParams.FilterCatalogs.PAINS)\n",
        "catalog = FilterCatalog(params)"
      ]
    },
    {
      "cell_type": "code",
      "execution_count": 6,
      "metadata": {
        "colab": {
          "referenced_widgets": [
            "fe760fc5be38450b81376a1f4255a6ee",
            "c5001d4c987644e8bd7afb5c7d74397e",
            "9faccb7123b34dbcbb9370e7bce4ab57",
            "10e7561aaa5b47a1916ed8caa417ec50",
            "54bf6a61835b491d9e430fd4a8418c37",
            "f8a069c56e3e4f6f834d88477ae83d1c",
            "40b32c8438564ea8975d1197c1119ba6",
            "969c782ff56d48a5a00660b3958d2bce",
            "61e4c8a4bd5c4c429c6cd207c041a02c",
            "38be1625fe8a4dbab7044e4ad60472d1",
            "25767ea07b804bb1a70a93f835e3a15d"
          ],
          "base_uri": "https://localhost:8080/",
          "height": 49
        },
        "id": "TiRjH5i-H_mu",
        "outputId": "133bc20e-a3ce-4556-db10-2967fe207699"
      },
      "outputs": [
        {
          "output_type": "display_data",
          "data": {
            "text/plain": [
              "  0%|          | 0/88 [00:00<?, ?it/s]"
            ],
            "application/vnd.jupyter.widget-view+json": {
              "version_major": 2,
              "version_minor": 0,
              "model_id": "fe760fc5be38450b81376a1f4255a6ee"
            }
          },
          "metadata": {}
        }
      ],
      "source": [
        "# search for PAINS\n",
        "matches = []\n",
        "clean = []\n",
        "for index, row in tqdm(egfr_data.iterrows(), total=egfr_data.shape[0]):\n",
        "    molecule = Chem.MolFromSmiles(row.smiles)\n",
        "    entry = catalog.GetFirstMatch(molecule)  # Get the first matching PAINS\n",
        "    if entry is not None:\n",
        "        # store PAINS information\n",
        "        matches.append(\n",
        "            {\n",
        "                \"chembl_id\": row.molecule_chembl_id,\n",
        "                \"rdkit_molecule\": molecule,\n",
        "                \"pains\": entry.GetDescription().capitalize(),\n",
        "            }\n",
        "        )\n",
        "    else:\n",
        "        # collect indices of molecules without PAINS\n",
        "        clean.append(index)\n",
        "\n",
        "matches = pd.DataFrame(matches)\n",
        "egfr_data = egfr_data.loc[clean]  # keep molecules without PAINS"
      ]
    },
    {
      "cell_type": "code",
      "execution_count": 7,
      "metadata": {
        "id": "6nRVVip7H_mu",
        "outputId": "96576129-a289-49cd-ac30-5c67eb3a0091",
        "colab": {
          "base_uri": "https://localhost:8080/"
        }
      },
      "outputs": [
        {
          "output_type": "stream",
          "name": "stdout",
          "text": [
            "Number of compounds with PAINS: 1\n",
            "Number of compounds without PAINS: 87\n"
          ]
        }
      ],
      "source": [
        "# NBVAL_CHECK_OUTPUT\n",
        "print(f\"Number of compounds with PAINS: {len(matches)}\")\n",
        "print(f\"Number of compounds without PAINS: {len(egfr_data)}\")"
      ]
    },
    {
      "cell_type": "markdown",
      "metadata": {
        "id": "MILLE4sCH_mv"
      },
      "source": [
        "Let's have a look at the first 3 identified PAINS."
      ]
    },
    {
      "cell_type": "code",
      "execution_count": 8,
      "metadata": {
        "id": "97pK2YbWH_mv",
        "outputId": "d1187024-a58c-4e1a-fc04-ed0de7d3dd93",
        "colab": {
          "base_uri": "https://localhost:8080/",
          "height": 217
        }
      },
      "outputs": [
        {
          "output_type": "execute_result",
          "data": {
            "image/png": "[encoded data removed]",
            "text/plain": [
              "<IPython.core.display.Image object>"
            ]
          },
          "metadata": {},
          "execution_count": 8
        }
      ],
      "source": [
        "Chem.Draw.MolsToGridImage(\n",
        "    list(matches.head(3).rdkit_molecule),\n",
        "    legends=list(matches.head(3)[\"pains\"]),\n",
        ")"
      ]
    },
    {
      "cell_type": "markdown",
      "metadata": {
        "id": "2c-3RKJDH_mv"
      },
      "source": [
        "### Filter and highlight unwanted substructures\n",
        "\n",
        "Some lists of unwanted substructures, like PAINS, are already implemented in RDKit. However, it is also possible to use an external list and get the substructure matches manually.\n",
        "Here, we use the list provided in the supporting information from Brenk *et al.* ([_Chem. Med. Chem._ (2008), **3**, 535-44](https://onlinelibrary.wiley.com/doi/full/10.1002/cmdc.200700139))."
      ]
    },
    {
      "cell_type": "code",
      "execution_count": 10,
      "metadata": {
        "id": "_C-vZKXPH_mw",
        "outputId": "f6f5ae51-7fe7-40e3-d3c3-7960678cab7a",
        "colab": {
          "base_uri": "https://localhost:8080/"
        }
      },
      "outputs": [
        {
          "output_type": "stream",
          "name": "stdout",
          "text": [
            "Number of unwanted substructures in collection: 105\n"
          ]
        }
      ],
      "source": [
        "substructures = pd.read_csv(\"/content/Unwanted_Substructures.csv\")\n",
        "substructures[\"rdkit_molecule\"] = substructures.smarts.apply(Chem.MolFromSmarts)\n",
        "print(\"Number of unwanted substructures in collection:\", len(substructures))\n",
        "# NBVAL_CHECK_OUTPUT"
      ]
    },
    {
      "cell_type": "markdown",
      "metadata": {
        "id": "wzQS30m8H_mw"
      },
      "source": [
        "Let's have a look at a few substructures."
      ]
    },
    {
      "cell_type": "code",
      "execution_count": 11,
      "metadata": {
        "id": "gR_CLhDbH_mw",
        "outputId": "cf4ae326-2cb0-4e99-c842-3dd9c5f9bbea",
        "colab": {
          "base_uri": "https://localhost:8080/",
          "height": 217
        }
      },
      "outputs": [
        {
          "output_type": "execute_result",
          "data": {
            "image/png": "[encoded data removed]",
            "text/plain": [
              "<IPython.core.display.Image object>"
            ]
          },
          "metadata": {},
          "execution_count": 11
        }
      ],
      "source": [
        "Chem.Draw.MolsToGridImage(\n",
        "    mols=substructures.rdkit_molecule.tolist()[2:5],\n",
        "    legends=substructures.name.tolist()[2:5],\n",
        ")"
      ]
    },
    {
      "cell_type": "markdown",
      "metadata": {
        "id": "evC81YJzH_mx"
      },
      "source": [
        "Search our filtered dataframe for matches with these unwanted substructures."
      ]
    },
    {
      "cell_type": "code",
      "execution_count": 12,
      "metadata": {
        "colab": {
          "referenced_widgets": [
            "03dac7e621a9408e9451adfda2a7c67b",
            "11805b7a23cf445c9bd4b7e207e898d3",
            "1adcd7a4e37e4150a9f36df1eb4e4cbb",
            "4a7b8e63ee3a48f0a2e075a2b48d762f",
            "686d1647d68f41ee8734240d41c018a8",
            "89cbca06bc11417c8447adb84090fdba",
            "2fb47917aa6743649b279e5ea1c25dbe",
            "8ae1a9301b7b468cbc0f026137b062ae",
            "ebdaf616ff904d0fae9501ebefb5e92c",
            "148b0a5793e14f58a83c818356fea405",
            "ad27e08b848642b28f06a20609f26212"
          ],
          "base_uri": "https://localhost:8080/",
          "height": 49
        },
        "id": "IqYVKDQAH_mx",
        "outputId": "bcb7c376-12a2-4dfc-8bb5-b6131e210a01"
      },
      "outputs": [
        {
          "output_type": "display_data",
          "data": {
            "text/plain": [
              "  0%|          | 0/87 [00:00<?, ?it/s]"
            ],
            "application/vnd.jupyter.widget-view+json": {
              "version_major": 2,
              "version_minor": 0,
              "model_id": "03dac7e621a9408e9451adfda2a7c67b"
            }
          },
          "metadata": {}
        }
      ],
      "source": [
        "# search for unwanted substructure\n",
        "matches = []\n",
        "clean = []\n",
        "for index, row in tqdm(egfr_data.iterrows(), total=egfr_data.shape[0]):\n",
        "    molecule = Chem.MolFromSmiles(row.smiles)\n",
        "    match = False\n",
        "    for _, substructure in substructures.iterrows():\n",
        "        if molecule.HasSubstructMatch(substructure.rdkit_molecule):\n",
        "            matches.append(\n",
        "                {\n",
        "                    \"chembl_id\": row.molecule_chembl_id,\n",
        "                    \"rdkit_molecule\": molecule,\n",
        "                    \"substructure\": substructure.rdkit_molecule,\n",
        "                    \"substructure_name\": substructure[\"name\"],\n",
        "                }\n",
        "            )\n",
        "            match = True\n",
        "    if not match:\n",
        "        clean.append(index)\n",
        "\n",
        "matches = pd.DataFrame(matches)\n",
        "egfr_data = egfr_data.loc[clean]"
      ]
    },
    {
      "cell_type": "code",
      "execution_count": 13,
      "metadata": {
        "id": "fmsi84g9H_my",
        "outputId": "97e6b1b2-0a94-44ea-873e-fef9475f6feb",
        "colab": {
          "base_uri": "https://localhost:8080/"
        }
      },
      "outputs": [
        {
          "output_type": "stream",
          "name": "stdout",
          "text": [
            "Number of found unwanted substructure: 59\n",
            "Number of compounds without unwanted substructure: 42\n"
          ]
        }
      ],
      "source": [
        "# NBVAL_CHECK_OUTPUT\n",
        "print(f\"Number of found unwanted substructure: {len(matches)}\")\n",
        "print(f\"Number of compounds without unwanted substructure: {len(egfr_data)}\")"
      ]
    },
    {
      "cell_type": "code",
      "source": [
        "#Convert it into a DataFrame\n",
        "df_egfr_data = pd.DataFrame(egfr_data)\n",
        "\n",
        "# Save DataFrame to CSV file\n",
        "df_egfr_data.to_csv('Part3_After_Removing_Unwanted_Compounds.csv', index=False)"
      ],
      "metadata": {
        "id": "RzinmTsEm5ki"
      },
      "execution_count": 14,
      "outputs": []
    },
    {
      "cell_type": "markdown",
      "metadata": {
        "id": "CMgUdzBXH_my"
      },
      "source": [
        "### Highlight substructures"
      ]
    },
    {
      "cell_type": "markdown",
      "metadata": {
        "id": "4uzJYdG4H_my"
      },
      "source": [
        "Let's have a look at the first 3 identified unwanted substructures. Since we have access to the underlying SMARTS patterns we can highlight the substructures within the RDKit molecules."
      ]
    },
    {
      "cell_type": "code",
      "execution_count": null,
      "metadata": {
        "tags": [
          "nbsphinx-thumbnail"
        ],
        "id": "2stR4ZYJH_mz",
        "outputId": "072e8540-bb2f-4e5a-dfbd-968f27555ed8",
        "colab": {
          "base_uri": "https://localhost:8080/",
          "height": 217
        }
      },
      "outputs": [
        {
          "output_type": "execute_result",
          "data": {
            "image/png": "[encoded data removed]",
            "text/plain": [
              "<IPython.core.display.Image object>"
            ]
          },
          "metadata": {},
          "execution_count": 15
        }
      ],
      "source": [
        "to_highlight = [\n",
        "    row.rdkit_molecule.GetSubstructMatch(row.substructure) for _, row in matches.head(3).iterrows()\n",
        "]\n",
        "Chem.Draw.MolsToGridImage(\n",
        "    list(matches.head(3).rdkit_molecule),\n",
        "    highlightAtomLists=to_highlight,\n",
        "    legends=list(matches.head(3).substructure_name),\n",
        ")"
      ]
    },
    {
      "cell_type": "markdown",
      "metadata": {
        "id": "4cE-TqBUH_mz"
      },
      "source": [
        "### Substructure statistics"
      ]
    },
    {
      "cell_type": "markdown",
      "metadata": {
        "id": "7XoJpN1gH_m0"
      },
      "source": [
        "Finally, we want to find the most frequent substructure found in our data set. The Pandas `DataFrame` provides convenient methods to group containing data and to retrieve group sizes."
      ]
    },
    {
      "cell_type": "code",
      "execution_count": null,
      "metadata": {
        "id": "RSnC-L7fH_m0",
        "outputId": "43e320de-6d39-4443-ac83-75d61634d6d7",
        "colab": {
          "base_uri": "https://localhost:8080/",
          "height": 429
        }
      },
      "outputs": [
        {
          "output_type": "execute_result",
          "data": {
            "text/plain": [
              "substructure_name\n",
              "Michael acceptor               1435\n",
              "Aliphatic long chain            575\n",
              "Oxygen-nitrogen single bond     480\n",
              "triple bond                     297\n",
              "nitro group                     212\n",
              "imine                           203\n",
              "Thiocarbonyl group              125\n",
              "aniline                          82\n",
              "hydroxamic acid                  80\n",
              "halogenated ring                 78\n",
              "dtype: int64"
            ],
            "text/html": [
              "<div>\n",
              "<style scoped>\n",
              "    .dataframe tbody tr th:only-of-type {\n",
              "        vertical-align: middle;\n",
              "    }\n",
              "\n",
              "    .dataframe tbody tr th {\n",
              "        vertical-align: top;\n",
              "    }\n",
              "\n",
              "    .dataframe thead th {\n",
              "        text-align: right;\n",
              "    }\n",
              "</style>\n",
              "<table border=\"1\" class=\"dataframe\">\n",
              "  <thead>\n",
              "    <tr style=\"text-align: right;\">\n",
              "      <th></th>\n",
              "      <th>0</th>\n",
              "    </tr>\n",
              "    <tr>\n",
              "      <th>substructure_name</th>\n",
              "      <th></th>\n",
              "    </tr>\n",
              "  </thead>\n",
              "  <tbody>\n",
              "    <tr>\n",
              "      <th>Michael acceptor</th>\n",
              "      <td>1435</td>\n",
              "    </tr>\n",
              "    <tr>\n",
              "      <th>Aliphatic long chain</th>\n",
              "      <td>575</td>\n",
              "    </tr>\n",
              "    <tr>\n",
              "      <th>Oxygen-nitrogen single bond</th>\n",
              "      <td>480</td>\n",
              "    </tr>\n",
              "    <tr>\n",
              "      <th>triple bond</th>\n",
              "      <td>297</td>\n",
              "    </tr>\n",
              "    <tr>\n",
              "      <th>nitro group</th>\n",
              "      <td>212</td>\n",
              "    </tr>\n",
              "    <tr>\n",
              "      <th>imine</th>\n",
              "      <td>203</td>\n",
              "    </tr>\n",
              "    <tr>\n",
              "      <th>Thiocarbonyl group</th>\n",
              "      <td>125</td>\n",
              "    </tr>\n",
              "    <tr>\n",
              "      <th>aniline</th>\n",
              "      <td>82</td>\n",
              "    </tr>\n",
              "    <tr>\n",
              "      <th>hydroxamic acid</th>\n",
              "      <td>80</td>\n",
              "    </tr>\n",
              "    <tr>\n",
              "      <th>halogenated ring</th>\n",
              "      <td>78</td>\n",
              "    </tr>\n",
              "  </tbody>\n",
              "</table>\n",
              "</div><br><label><b>dtype:</b> int64</label>"
            ]
          },
          "metadata": {},
          "execution_count": 14
        }
      ],
      "source": [
        "# NBVAL_CHECK_OUTPUT\n",
        "groups = matches.groupby(\"substructure_name\")\n",
        "group_frequencies = groups.size()\n",
        "group_frequencies.sort_values(ascending=False, inplace=True)\n",
        "group_frequencies.head(10)"
      ]
    },
    {
      "cell_type": "markdown",
      "metadata": {
        "id": "mohAf1xEH_m0"
      },
      "source": [
        "## Discussion\n",
        "In this talktorial we learned two possibilities to perform a search for unwanted substructures with RDKit:\n",
        "\n",
        "* The `FilterCatalog` class can be used to search for predefined collections of substructures, e.g., PAINS.\n",
        "* The `HasSubstructMatch()` function to perform manual substructure searches.\n",
        "\n",
        "Actually, PAINS filtering could also be implemented via manual substructure searches with `HasSubstructMatch()`. Furthermore, the substructures defined by Brenk *et al.* ([_Chem. Med. Chem._ (2008), **3**, 535-44](https://onlinelibrary.wiley.com/doi/full/10.1002/cmdc.200700139)) are already implemented as a `FilterCatalog`. Additional pre-defined collections can be found in the RDKit [documentation](http://rdkit.org/docs/source/rdkit.Chem.rdfiltercatalog.html).\n",
        "\n",
        "So far, we have been using the `HasSubstructMatch()` function, which only yields one match per compound. With the `GetSubstructMatches()` function ([documentation](https://www.rdkit.org/docs/source/rdkit.Chem.rdchem.html)) we have the opportunity to identify all occurrences of a particular substructure in a compound.\n",
        "In case of PAINS, we have only looked at the first match per molecule (`GetFirstMatch()`). If we simply want to filter out all PAINS this is enough. However, we could also use `GetMatches()` in order to see all critical substructures of a molecule.\n",
        "\n",
        "Detected substructures can be handled in two different fashions:\n",
        "\n",
        "* Either, the substructure search is applied as a filter and the compounds are excluded from further testing to save time and money.\n",
        "* Or, they can be used as warnings, since ~5 % of FDA-approved drugs were found to contain PAINS ([_ACS. Chem. Biol._ (2018), **13**, 36-44](https://pubs.acs.org/doi/10.1021/acschembio.7b00903)). In this case experts can judge manually, if an identified substructure is critical or not."
      ]
    },
    {
      "cell_type": "markdown",
      "source": [
        "##**Congratulation! Your progress is good**\n",
        "\n",
        "If you happy for your time, Please provide your Support in the Form of a Subscription on Youtube Channel**\n",
        "\n",
        "[**Bioinformatics Insights**](https://www.youtube.com/channel/UC2Z_WaqTjbvXGGQNpIF9nAg)\n",
        "\n",
        "Follow [**WhatsApp Channel**](https://whatsapp.com/channel/0029VajkwkdCHDydS6Y2lM36) for further updates, research services, and courses."
      ],
      "metadata": {
        "id": "vF1lqsIWuM2E"
      }
    }
  ],
  "metadata": {
    "kernelspec": {
      "display_name": "Python 3 (ipykernel)",
      "language": "python",
      "name": "python3"
    },
    "language_info": {
      "codemirror_mode": {
        "name": "ipython",
        "version": 3
      },
      "file_extension": ".py",
      "mimetype": "text/x-python",
      "name": "python",
      "nbconvert_exporter": "python",
      "pygments_lexer": "ipython3",
      "version": "3.9.16"
    },
    "toc-autonumbering": true,
    "colab": {
      "provenance": []
    },
    "widgets": {
      "application/vnd.jupyter.widget-state+json": {
        "fe760fc5be38450b81376a1f4255a6ee": {
          "model_module": "@jupyter-widgets/controls",
          "model_name": "HBoxModel",
          "model_module_version": "1.5.0",
          "state": {
            "_dom_classes": [],
            "_model_module": "@jupyter-widgets/controls",
            "_model_module_version": "1.5.0",
            "_model_name": "HBoxModel",
            "_view_count": null,
            "_view_module": "@jupyter-widgets/controls",
            "_view_module_version": "1.5.0",
            "_view_name": "HBoxView",
            "box_style": "",
            "children": [
              "IPY_MODEL_c5001d4c987644e8bd7afb5c7d74397e",
              "IPY_MODEL_9faccb7123b34dbcbb9370e7bce4ab57",
              "IPY_MODEL_10e7561aaa5b47a1916ed8caa417ec50"
            ],
            "layout": "IPY_MODEL_54bf6a61835b491d9e430fd4a8418c37"
          }
        },
        "c5001d4c987644e8bd7afb5c7d74397e": {
          "model_module": "@jupyter-widgets/controls",
          "model_name": "HTMLModel",
          "model_module_version": "1.5.0",
          "state": {
            "_dom_classes": [],
            "_model_module": "@jupyter-widgets/controls",
            "_model_module_version": "1.5.0",
            "_model_name": "HTMLModel",
            "_view_count": null,
            "_view_module": "@jupyter-widgets/controls",
            "_view_module_version": "1.5.0",
            "_view_name": "HTMLView",
            "description": "",
            "description_tooltip": null,
            "layout": "IPY_MODEL_f8a069c56e3e4f6f834d88477ae83d1c",
            "placeholder": "​",
            "style": "IPY_MODEL_40b32c8438564ea8975d1197c1119ba6",
            "value": "100%"
          }
        },
        "9faccb7123b34dbcbb9370e7bce4ab57": {
          "model_module": "@jupyter-widgets/controls",
          "model_name": "FloatProgressModel",
          "model_module_version": "1.5.0",
          "state": {
            "_dom_classes": [],
            "_model_module": "@jupyter-widgets/controls",
            "_model_module_version": "1.5.0",
            "_model_name": "FloatProgressModel",
            "_view_count": null,
            "_view_module": "@jupyter-widgets/controls",
            "_view_module_version": "1.5.0",
            "_view_name": "ProgressView",
            "bar_style": "success",
            "description": "",
            "description_tooltip": null,
            "layout": "IPY_MODEL_969c782ff56d48a5a00660b3958d2bce",
            "max": 88,
            "min": 0,
            "orientation": "horizontal",
            "style": "IPY_MODEL_61e4c8a4bd5c4c429c6cd207c041a02c",
            "value": 88
          }
        },
        "10e7561aaa5b47a1916ed8caa417ec50": {
          "model_module": "@jupyter-widgets/controls",
          "model_name": "HTMLModel",
          "model_module_version": "1.5.0",
          "state": {
            "_dom_classes": [],
            "_model_module": "@jupyter-widgets/controls",
            "_model_module_version": "1.5.0",
            "_model_name": "HTMLModel",
            "_view_count": null,
            "_view_module": "@jupyter-widgets/controls",
            "_view_module_version": "1.5.0",
            "_view_name": "HTMLView",
            "description": "",
            "description_tooltip": null,
            "layout": "IPY_MODEL_38be1625fe8a4dbab7044e4ad60472d1",
            "placeholder": "​",
            "style": "IPY_MODEL_25767ea07b804bb1a70a93f835e3a15d",
            "value": " 88/88 [00:00&lt;00:00, 111.91it/s]"
          }
        },
        "54bf6a61835b491d9e430fd4a8418c37": {
          "model_module": "@jupyter-widgets/base",
          "model_name": "LayoutModel",
          "model_module_version": "1.2.0",
          "state": {
            "_model_module": "@jupyter-widgets/base",
            "_model_module_version": "1.2.0",
            "_model_name": "LayoutModel",
            "_view_count": null,
            "_view_module": "@jupyter-widgets/base",
            "_view_module_version": "1.2.0",
            "_view_name": "LayoutView",
            "align_content": null,
            "align_items": null,
            "align_self": null,
            "border": null,
            "bottom": null,
            "display": null,
            "flex": null,
            "flex_flow": null,
            "grid_area": null,
            "grid_auto_columns": null,
            "grid_auto_flow": null,
            "grid_auto_rows": null,
            "grid_column": null,
            "grid_gap": null,
            "grid_row": null,
            "grid_template_areas": null,
            "grid_template_columns": null,
            "grid_template_rows": null,
            "height": null,
            "justify_content": null,
            "justify_items": null,
            "left": null,
            "margin": null,
            "max_height": null,
            "max_width": null,
            "min_height": null,
            "min_width": null,
            "object_fit": null,
            "object_position": null,
            "order": null,
            "overflow": null,
            "overflow_x": null,
            "overflow_y": null,
            "padding": null,
            "right": null,
            "top": null,
            "visibility": null,
            "width": null
          }
        },
        "f8a069c56e3e4f6f834d88477ae83d1c": {
          "model_module": "@jupyter-widgets/base",
          "model_name": "LayoutModel",
          "model_module_version": "1.2.0",
          "state": {
            "_model_module": "@jupyter-widgets/base",
            "_model_module_version": "1.2.0",
            "_model_name": "LayoutModel",
            "_view_count": null,
            "_view_module": "@jupyter-widgets/base",
            "_view_module_version": "1.2.0",
            "_view_name": "LayoutView",
            "align_content": null,
            "align_items": null,
            "align_self": null,
            "border": null,
            "bottom": null,
            "display": null,
            "flex": null,
            "flex_flow": null,
            "grid_area": null,
            "grid_auto_columns": null,
            "grid_auto_flow": null,
            "grid_auto_rows": null,
            "grid_column": null,
            "grid_gap": null,
            "grid_row": null,
            "grid_template_areas": null,
            "grid_template_columns": null,
            "grid_template_rows": null,
            "height": null,
            "justify_content": null,
            "justify_items": null,
            "left": null,
            "margin": null,
            "max_height": null,
            "max_width": null,
            "min_height": null,
            "min_width": null,
            "object_fit": null,
            "object_position": null,
            "order": null,
            "overflow": null,
            "overflow_x": null,
            "overflow_y": null,
            "padding": null,
            "right": null,
            "top": null,
            "visibility": null,
            "width": null
          }
        },
        "40b32c8438564ea8975d1197c1119ba6": {
          "model_module": "@jupyter-widgets/controls",
          "model_name": "DescriptionStyleModel",
          "model_module_version": "1.5.0",
          "state": {
            "_model_module": "@jupyter-widgets/controls",
            "_model_module_version": "1.5.0",
            "_model_name": "DescriptionStyleModel",
            "_view_count": null,
            "_view_module": "@jupyter-widgets/base",
            "_view_module_version": "1.2.0",
            "_view_name": "StyleView",
            "description_width": ""
          }
        },
        "969c782ff56d48a5a00660b3958d2bce": {
          "model_module": "@jupyter-widgets/base",
          "model_name": "LayoutModel",
          "model_module_version": "1.2.0",
          "state": {
            "_model_module": "@jupyter-widgets/base",
            "_model_module_version": "1.2.0",
            "_model_name": "LayoutModel",
            "_view_count": null,
            "_view_module": "@jupyter-widgets/base",
            "_view_module_version": "1.2.0",
            "_view_name": "LayoutView",
            "align_content": null,
            "align_items": null,
            "align_self": null,
            "border": null,
            "bottom": null,
            "display": null,
            "flex": null,
            "flex_flow": null,
            "grid_area": null,
            "grid_auto_columns": null,
            "grid_auto_flow": null,
            "grid_auto_rows": null,
            "grid_column": null,
            "grid_gap": null,
            "grid_row": null,
            "grid_template_areas": null,
            "grid_template_columns": null,
            "grid_template_rows": null,
            "height": null,
            "justify_content": null,
            "justify_items": null,
            "left": null,
            "margin": null,
            "max_height": null,
            "max_width": null,
            "min_height": null,
            "min_width": null,
            "object_fit": null,
            "object_position": null,
            "order": null,
            "overflow": null,
            "overflow_x": null,
            "overflow_y": null,
            "padding": null,
            "right": null,
            "top": null,
            "visibility": null,
            "width": null
          }
        },
        "61e4c8a4bd5c4c429c6cd207c041a02c": {
          "model_module": "@jupyter-widgets/controls",
          "model_name": "ProgressStyleModel",
          "model_module_version": "1.5.0",
          "state": {
            "_model_module": "@jupyter-widgets/controls",
            "_model_module_version": "1.5.0",
            "_model_name": "ProgressStyleModel",
            "_view_count": null,
            "_view_module": "@jupyter-widgets/base",
            "_view_module_version": "1.2.0",
            "_view_name": "StyleView",
            "bar_color": null,
            "description_width": ""
          }
        },
        "38be1625fe8a4dbab7044e4ad60472d1": {
          "model_module": "@jupyter-widgets/base",
          "model_name": "LayoutModel",
          "model_module_version": "1.2.0",
          "state": {
            "_model_module": "@jupyter-widgets/base",
            "_model_module_version": "1.2.0",
            "_model_name": "LayoutModel",
            "_view_count": null,
            "_view_module": "@jupyter-widgets/base",
            "_view_module_version": "1.2.0",
            "_view_name": "LayoutView",
            "align_content": null,
            "align_items": null,
            "align_self": null,
            "border": null,
            "bottom": null,
            "display": null,
            "flex": null,
            "flex_flow": null,
            "grid_area": null,
            "grid_auto_columns": null,
            "grid_auto_flow": null,
            "grid_auto_rows": null,
            "grid_column": null,
            "grid_gap": null,
            "grid_row": null,
            "grid_template_areas": null,
            "grid_template_columns": null,
            "grid_template_rows": null,
            "height": null,
            "justify_content": null,
            "justify_items": null,
            "left": null,
            "margin": null,
            "max_height": null,
            "max_width": null,
            "min_height": null,
            "min_width": null,
            "object_fit": null,
            "object_position": null,
            "order": null,
            "overflow": null,
            "overflow_x": null,
            "overflow_y": null,
            "padding": null,
            "right": null,
            "top": null,
            "visibility": null,
            "width": null
          }
        },
        "25767ea07b804bb1a70a93f835e3a15d": {
          "model_module": "@jupyter-widgets/controls",
          "model_name": "DescriptionStyleModel",
          "model_module_version": "1.5.0",
          "state": {
            "_model_module": "@jupyter-widgets/controls",
            "_model_module_version": "1.5.0",
            "_model_name": "DescriptionStyleModel",
            "_view_count": null,
            "_view_module": "@jupyter-widgets/base",
            "_view_module_version": "1.2.0",
            "_view_name": "StyleView",
            "description_width": ""
          }
        },
        "03dac7e621a9408e9451adfda2a7c67b": {
          "model_module": "@jupyter-widgets/controls",
          "model_name": "HBoxModel",
          "model_module_version": "1.5.0",
          "state": {
            "_dom_classes": [],
            "_model_module": "@jupyter-widgets/controls",
            "_model_module_version": "1.5.0",
            "_model_name": "HBoxModel",
            "_view_count": null,
            "_view_module": "@jupyter-widgets/controls",
            "_view_module_version": "1.5.0",
            "_view_name": "HBoxView",
            "box_style": "",
            "children": [
              "IPY_MODEL_11805b7a23cf445c9bd4b7e207e898d3",
              "IPY_MODEL_1adcd7a4e37e4150a9f36df1eb4e4cbb",
              "IPY_MODEL_4a7b8e63ee3a48f0a2e075a2b48d762f"
            ],
            "layout": "IPY_MODEL_686d1647d68f41ee8734240d41c018a8"
          }
        },
        "11805b7a23cf445c9bd4b7e207e898d3": {
          "model_module": "@jupyter-widgets/controls",
          "model_name": "HTMLModel",
          "model_module_version": "1.5.0",
          "state": {
            "_dom_classes": [],
            "_model_module": "@jupyter-widgets/controls",
            "_model_module_version": "1.5.0",
            "_model_name": "HTMLModel",
            "_view_count": null,
            "_view_module": "@jupyter-widgets/controls",
            "_view_module_version": "1.5.0",
            "_view_name": "HTMLView",
            "description": "",
            "description_tooltip": null,
            "layout": "IPY_MODEL_89cbca06bc11417c8447adb84090fdba",
            "placeholder": "​",
            "style": "IPY_MODEL_2fb47917aa6743649b279e5ea1c25dbe",
            "value": "100%"
          }
        },
        "1adcd7a4e37e4150a9f36df1eb4e4cbb": {
          "model_module": "@jupyter-widgets/controls",
          "model_name": "FloatProgressModel",
          "model_module_version": "1.5.0",
          "state": {
            "_dom_classes": [],
            "_model_module": "@jupyter-widgets/controls",
            "_model_module_version": "1.5.0",
            "_model_name": "FloatProgressModel",
            "_view_count": null,
            "_view_module": "@jupyter-widgets/controls",
            "_view_module_version": "1.5.0",
            "_view_name": "ProgressView",
            "bar_style": "success",
            "description": "",
            "description_tooltip": null,
            "layout": "IPY_MODEL_8ae1a9301b7b468cbc0f026137b062ae",
            "max": 87,
            "min": 0,
            "orientation": "horizontal",
            "style": "IPY_MODEL_ebdaf616ff904d0fae9501ebefb5e92c",
            "value": 87
          }
        },
        "4a7b8e63ee3a48f0a2e075a2b48d762f": {
          "model_module": "@jupyter-widgets/controls",
          "model_name": "HTMLModel",
          "model_module_version": "1.5.0",
          "state": {
            "_dom_classes": [],
            "_model_module": "@jupyter-widgets/controls",
            "_model_module_version": "1.5.0",
            "_model_name": "HTMLModel",
            "_view_count": null,
            "_view_module": "@jupyter-widgets/controls",
            "_view_module_version": "1.5.0",
            "_view_name": "HTMLView",
            "description": "",
            "description_tooltip": null,
            "layout": "IPY_MODEL_148b0a5793e14f58a83c818356fea405",
            "placeholder": "​",
            "style": "IPY_MODEL_ad27e08b848642b28f06a20609f26212",
            "value": " 87/87 [00:00&lt;00:00, 118.38it/s]"
          }
        },
        "686d1647d68f41ee8734240d41c018a8": {
          "model_module": "@jupyter-widgets/base",
          "model_name": "LayoutModel",
          "model_module_version": "1.2.0",
          "state": {
            "_model_module": "@jupyter-widgets/base",
            "_model_module_version": "1.2.0",
            "_model_name": "LayoutModel",
            "_view_count": null,
            "_view_module": "@jupyter-widgets/base",
            "_view_module_version": "1.2.0",
            "_view_name": "LayoutView",
            "align_content": null,
            "align_items": null,
            "align_self": null,
            "border": null,
            "bottom": null,
            "display": null,
            "flex": null,
            "flex_flow": null,
            "grid_area": null,
            "grid_auto_columns": null,
            "grid_auto_flow": null,
            "grid_auto_rows": null,
            "grid_column": null,
            "grid_gap": null,
            "grid_row": null,
            "grid_template_areas": null,
            "grid_template_columns": null,
            "grid_template_rows": null,
            "height": null,
            "justify_content": null,
            "justify_items": null,
            "left": null,
            "margin": null,
            "max_height": null,
            "max_width": null,
            "min_height": null,
            "min_width": null,
            "object_fit": null,
            "object_position": null,
            "order": null,
            "overflow": null,
            "overflow_x": null,
            "overflow_y": null,
            "padding": null,
            "right": null,
            "top": null,
            "visibility": null,
            "width": null
          }
        },
        "89cbca06bc11417c8447adb84090fdba": {
          "model_module": "@jupyter-widgets/base",
          "model_name": "LayoutModel",
          "model_module_version": "1.2.0",
          "state": {
            "_model_module": "@jupyter-widgets/base",
            "_model_module_version": "1.2.0",
            "_model_name": "LayoutModel",
            "_view_count": null,
            "_view_module": "@jupyter-widgets/base",
            "_view_module_version": "1.2.0",
            "_view_name": "LayoutView",
            "align_content": null,
            "align_items": null,
            "align_self": null,
            "border": null,
            "bottom": null,
            "display": null,
            "flex": null,
            "flex_flow": null,
            "grid_area": null,
            "grid_auto_columns": null,
            "grid_auto_flow": null,
            "grid_auto_rows": null,
            "grid_column": null,
            "grid_gap": null,
            "grid_row": null,
            "grid_template_areas": null,
            "grid_template_columns": null,
            "grid_template_rows": null,
            "height": null,
            "justify_content": null,
            "justify_items": null,
            "left": null,
            "margin": null,
            "max_height": null,
            "max_width": null,
            "min_height": null,
            "min_width": null,
            "object_fit": null,
            "object_position": null,
            "order": null,
            "overflow": null,
            "overflow_x": null,
            "overflow_y": null,
            "padding": null,
            "right": null,
            "top": null,
            "visibility": null,
            "width": null
          }
        },
        "2fb47917aa6743649b279e5ea1c25dbe": {
          "model_module": "@jupyter-widgets/controls",
          "model_name": "DescriptionStyleModel",
          "model_module_version": "1.5.0",
          "state": {
            "_model_module": "@jupyter-widgets/controls",
            "_model_module_version": "1.5.0",
            "_model_name": "DescriptionStyleModel",
            "_view_count": null,
            "_view_module": "@jupyter-widgets/base",
            "_view_module_version": "1.2.0",
            "_view_name": "StyleView",
            "description_width": ""
          }
        },
        "8ae1a9301b7b468cbc0f026137b062ae": {
          "model_module": "@jupyter-widgets/base",
          "model_name": "LayoutModel",
          "model_module_version": "1.2.0",
          "state": {
            "_model_module": "@jupyter-widgets/base",
            "_model_module_version": "1.2.0",
            "_model_name": "LayoutModel",
            "_view_count": null,
            "_view_module": "@jupyter-widgets/base",
            "_view_module_version": "1.2.0",
            "_view_name": "LayoutView",
            "align_content": null,
            "align_items": null,
            "align_self": null,
            "border": null,
            "bottom": null,
            "display": null,
            "flex": null,
            "flex_flow": null,
            "grid_area": null,
            "grid_auto_columns": null,
            "grid_auto_flow": null,
            "grid_auto_rows": null,
            "grid_column": null,
            "grid_gap": null,
            "grid_row": null,
            "grid_template_areas": null,
            "grid_template_columns": null,
            "grid_template_rows": null,
            "height": null,
            "justify_content": null,
            "justify_items": null,
            "left": null,
            "margin": null,
            "max_height": null,
            "max_width": null,
            "min_height": null,
            "min_width": null,
            "object_fit": null,
            "object_position": null,
            "order": null,
            "overflow": null,
            "overflow_x": null,
            "overflow_y": null,
            "padding": null,
            "right": null,
            "top": null,
            "visibility": null,
            "width": null
          }
        },
        "ebdaf616ff904d0fae9501ebefb5e92c": {
          "model_module": "@jupyter-widgets/controls",
          "model_name": "ProgressStyleModel",
          "model_module_version": "1.5.0",
          "state": {
            "_model_module": "@jupyter-widgets/controls",
            "_model_module_version": "1.5.0",
            "_model_name": "ProgressStyleModel",
            "_view_count": null,
            "_view_module": "@jupyter-widgets/base",
            "_view_module_version": "1.2.0",
            "_view_name": "StyleView",
            "bar_color": null,
            "description_width": ""
          }
        },
        "148b0a5793e14f58a83c818356fea405": {
          "model_module": "@jupyter-widgets/base",
          "model_name": "LayoutModel",
          "model_module_version": "1.2.0",
          "state": {
            "_model_module": "@jupyter-widgets/base",
            "_model_module_version": "1.2.0",
            "_model_name": "LayoutModel",
            "_view_count": null,
            "_view_module": "@jupyter-widgets/base",
            "_view_module_version": "1.2.0",
            "_view_name": "LayoutView",
            "align_content": null,
            "align_items": null,
            "align_self": null,
            "border": null,
            "bottom": null,
            "display": null,
            "flex": null,
            "flex_flow": null,
            "grid_area": null,
            "grid_auto_columns": null,
            "grid_auto_flow": null,
            "grid_auto_rows": null,
            "grid_column": null,
            "grid_gap": null,
            "grid_row": null,
            "grid_template_areas": null,
            "grid_template_columns": null,
            "grid_template_rows": null,
            "height": null,
            "justify_content": null,
            "justify_items": null,
            "left": null,
            "margin": null,
            "max_height": null,
            "max_width": null,
            "min_height": null,
            "min_width": null,
            "object_fit": null,
            "object_position": null,
            "order": null,
            "overflow": null,
            "overflow_x": null,
            "overflow_y": null,
            "padding": null,
            "right": null,
            "top": null,
            "visibility": null,
            "width": null
          }
        },
        "ad27e08b848642b28f06a20609f26212": {
          "model_module": "@jupyter-widgets/controls",
          "model_name": "DescriptionStyleModel",
          "model_module_version": "1.5.0",
          "state": {
            "_model_module": "@jupyter-widgets/controls",
            "_model_module_version": "1.5.0",
            "_model_name": "DescriptionStyleModel",
            "_view_count": null,
            "_view_module": "@jupyter-widgets/base",
            "_view_module_version": "1.2.0",
            "_view_name": "StyleView",
            "description_width": ""
          }
        }
      }
    }
  },
  "nbformat": 4,
  "nbformat_minor": 0
}