{
  "cells": [
    {
      "cell_type": "markdown",
      "metadata": {
        "id": "7I_BbH58n4h2"
      },
      "source": [
        "### Installation on Google Colab\n",
        "\n",
        "The following code cells will install all required packages, if you are working on [Google Colab](https://colab.research.google.com/notebooks/intro.ipynb). Installing the [condacolab](https://github.com/jaimergp/condacolab) package will restart the kernel, which is intended. This notebook can also be used on a local computer but requires considerable computing power."
      ]
    },
    {
      "cell_type": "code",
      "execution_count": 1,
      "metadata": {
        "colab": {
          "base_uri": "https://localhost:8080/"
        },
        "id": "K78GGT60Nu8p",
        "outputId": "570c1453-89f1-40cd-ea83-7cc3247c9ef5"
      },
      "outputs": [
        {
          "output_type": "stream",
          "name": "stdout",
          "text": [
            "Collecting condacolab\n",
            "  Downloading condacolab-0.1.10-py3-none-any.whl.metadata (5.5 kB)\n",
            "Downloading condacolab-0.1.10-py3-none-any.whl (7.2 kB)\n",
            "Installing collected packages: condacolab\n",
            "Successfully installed condacolab-0.1.10\n",
            "⏬ Downloading https://github.com/jaimergp/miniforge/releases/download/24.11.2-1_colab/Miniforge3-colab-24.11.2-1_colab-Linux-x86_64.sh...\n",
            "📦 Installing...\n",
            "📌 Adjusting configuration...\n",
            "🩹 Patching environment...\n",
            "⏲ Done in 0:00:11\n",
            "🔁 Restarting kernel...\n"
          ]
        }
      ],
      "source": [
        "try:\n",
        "    import google.colab\n",
        "\n",
        "    !pip install condacolab\n",
        "    import condacolab\n",
        "\n",
        "    condacolab.install()\n",
        "except ModuleNotFoundError:\n",
        "    pass"
      ]
    },
    {
      "cell_type": "code",
      "execution_count": 1,
      "metadata": {
        "colab": {
          "base_uri": "https://localhost:8080/"
        },
        "id": "VbqoZFShp00I",
        "outputId": "ce7ade5a-84e7-4210-e764-a41c7fd8f70e"
      },
      "outputs": [
        {
          "output_type": "stream",
          "name": "stdout",
          "text": [
            "Dependencies successfully installed!\n"
          ]
        }
      ],
      "source": [
        "try:\n",
        "    import condacolab\n",
        "    from google.colab import files\n",
        "    from IPython.display import clear_output\n",
        "\n",
        "    condacolab.check()\n",
        "    !conda install -q -y -c conda-forge mdtraj openmm openmmforcefields openff-toolkit pdbfixer pypdb rdkit\n",
        "except ModuleNotFoundError:\n",
        "    on_colab = False\n",
        "else:\n",
        "    # check if installation was succesful\n",
        "    try:\n",
        "        import rdkit\n",
        "\n",
        "        on_colab = True\n",
        "        clear_output()  # clear the excessive installation outputs\n",
        "        print(\"Dependencies successfully installed!\")\n",
        "    except ModuleNotFoundError:\n",
        "        print(\"Error while installing dependencies!\")"
      ]
    },
    {
      "cell_type": "markdown",
      "metadata": {
        "id": "K1xb8CjZ6Zqm"
      },
      "source": [
        "### Adjust environment for local installations running on Linux or MacOS"
      ]
    },
    {
      "cell_type": "code",
      "execution_count": 2,
      "metadata": {
        "id": "8JBTIPIK6Zqm"
      },
      "outputs": [],
      "source": [
        "import sys\n",
        "\n",
        "if not on_colab and sys.platform.startswith((\"linux\", \"darwin\")):\n",
        "    !mamba install -q -y -c conda-forge openmmforcefields\n",
        "    # Notes:\n",
        "    # - If you do not have mamba installed, install it or use conda instead\n",
        "    # - Under MacOS with an M1 chip you may need to use\n",
        "    #   CONDA_SUBDIR=osx-64 in front of the above command"
      ]
    },
    {
      "cell_type": "markdown",
      "metadata": {
        "id": "jziuuH4v6Zqm"
      },
      "source": [
        "### Import dependencies"
      ]
    },
    {
      "cell_type": "code",
      "execution_count": 3,
      "metadata": {
        "id": "3g6vsWucLgng"
      },
      "outputs": [],
      "source": [
        "import copy\n",
        "from pathlib import Path\n",
        "\n",
        "import requests\n",
        "from IPython.display import display\n",
        "import numpy as np\n",
        "from rdkit import Chem\n",
        "from rdkit.Chem import Draw\n",
        "from rdkit.Chem import AllChem\n",
        "import mdtraj as md\n",
        "import pdbfixer\n",
        "import openmm as mm\n",
        "import openmm.app as app\n",
        "from openmm import unit\n",
        "from openff.toolkit.topology import Molecule, Topology\n",
        "from openmmforcefields.generators import GAFFTemplateGenerator"
      ]
    },
    {
      "cell_type": "code",
      "execution_count": 4,
      "metadata": {
        "id": "w5g1k527SexH"
      },
      "outputs": [],
      "source": [
        "# create data directory if not exists\n",
        "HERE = Path(_dh[-1])\n",
        "DATA = HERE / \"data\"\n",
        "DATA.mkdir(exist_ok=True)"
      ]
    },
    {
      "cell_type": "markdown",
      "metadata": {
        "id": "ltkfdrHvn4iI"
      },
      "source": [
        "### Download PDB file\n",
        "The Protein Data Bank ([PDB](https://www.rcsb.org/)) allows for easy downloading of files via url."
      ]
    },
    {
      "cell_type": "code",
      "execution_count": 5,
      "metadata": {
        "id": "Ecabaj2Y9kte"
      },
      "outputs": [],
      "source": [
        "pdbid = \"CHEMBL3904647_1_cmpx\"\n",
        "ligand_name = \"UNL\"\n",
        "pdb_path = DATA / f\"{pdbid}.pdb\"\n",
        "pdb_url = f\"https://files.rcsb.org/download/{pdbid}.pdb\""
      ]
    },
    {
      "cell_type": "code",
      "execution_count": null,
      "metadata": {
        "id": "FgGX8_Yv6Zqm"
      },
      "outputs": [],
      "source": [
        "r = requests.get(pdb_url)\n",
        "r.raise_for_status()\n",
        "with open(pdb_path, \"wb\") as f:\n",
        "    f.write(r.content)"
      ]
    },
    {
      "cell_type": "markdown",
      "metadata": {
        "id": "krsfBvoenaYu"
      },
      "source": [
        "### Prepare the protein ligand complex"
      ]
    },
    {
      "cell_type": "markdown",
      "metadata": {
        "id": "t3mGSg8LLgop"
      },
      "source": [
        "#### Protein preparation\n",
        "\n",
        "A crucial part for successful simulation is a correct and complete system. Crystallographic structures retrieved from the Protein Data Bank often miss atoms, mainly hydrogens, and may contain non-standard residues. In this talktorial, we will use the Python package [PDBFixer](https://github.com/openmm/pdbfixer) to prepare the protein structure. However, co-crystallized ligands are not handled well by [PDBFixer](https://github.com/openmm/pdbfixer) and will thus be prepared separately."
      ]
    },
    {
      "cell_type": "code",
      "execution_count": 6,
      "metadata": {
        "id": "pA9Vct0iNRhl"
      },
      "outputs": [],
      "source": [
        "def prepare_protein(\n",
        "    pdb_file, ignore_missing_residues=True, ignore_terminal_missing_residues=True, ph=7.0\n",
        "):\n",
        "    \"\"\"\n",
        "    Use pdbfixer to prepare the protein from a PDB file. Hetero atoms such as ligands are\n",
        "    removed and non-standard residues replaced. Missing atoms to existing residues are added.\n",
        "    Missing residues are ignored by default, but can be included.\n",
        "\n",
        "    Parameters\n",
        "    ----------\n",
        "    pdb_file: pathlib.Path or str\n",
        "        PDB file containing the system to simulate.\n",
        "    ignore_missing_residues: bool, optional\n",
        "        If missing residues should be ignored or built.\n",
        "    ignore_terminal_missing_residues: bool, optional\n",
        "        If missing residues at the beginning and the end of a chain should be ignored or built.\n",
        "    ph: float, optional\n",
        "        pH value used to determine protonation state of residues\n",
        "\n",
        "    Returns\n",
        "    -------\n",
        "    fixer: pdbfixer.pdbfixer.PDBFixer\n",
        "        Prepared protein system.\n",
        "    \"\"\"\n",
        "    fixer = pdbfixer.PDBFixer(str(pdb_file))\n",
        "    fixer.removeHeterogens()  # co-crystallized ligands are unknown to PDBFixer\n",
        "    fixer.findMissingResidues()  # identify missing residues, needed for identification of missing atoms\n",
        "\n",
        "    # if missing terminal residues shall be ignored, remove them from the dictionary\n",
        "    if ignore_terminal_missing_residues:\n",
        "        chains = list(fixer.topology.chains())\n",
        "        keys = fixer.missingResidues.keys()\n",
        "        for key in list(keys):\n",
        "            chain = chains[key[0]]\n",
        "            if key[1] == 0 or key[1] == len(list(chain.residues())):\n",
        "                del fixer.missingResidues[key]\n",
        "\n",
        "    # if all missing residues shall be ignored ignored, clear the dictionary\n",
        "    if ignore_missing_residues:\n",
        "        fixer.missingResidues = {}\n",
        "\n",
        "    fixer.findNonstandardResidues()  # find non-standard residue\n",
        "    fixer.replaceNonstandardResidues()  # replace non-standard residues with standard one\n",
        "    fixer.findMissingAtoms()  # find missing heavy atoms\n",
        "    fixer.addMissingAtoms()  # add missing atoms and residues\n",
        "    fixer.addMissingHydrogens(ph)  # add missing hydrogens\n",
        "    return fixer"
      ]
    },
    {
      "cell_type": "code",
      "execution_count": 8,
      "metadata": {
        "id": "bxuyg-oxOtvn",
        "outputId": "379f3153-ab97-444d-92f0-caa6e34f6bdc",
        "colab": {
          "base_uri": "https://localhost:8080/"
        }
      },
      "outputs": [
        {
          "output_type": "stream",
          "name": "stderr",
          "text": [
            "/usr/local/lib/python3.11/site-packages/openmm/app/internal/pdbstructure.py:537: UserWarning: WARNING: duplicate atom (ATOM      2  C   UNL     1     -49.477  -0.345 -22.616  1.00  0.00           C  , ATOM      1  C   UNL     1     -49.932  -0.228 -21.301  1.00  0.00           C  )\n",
            "  warnings.warn(\"WARNING: duplicate atom (%s, %s)\" % (atom, old_atom._pdb_string(old_atom.serial_number, atom.alternate_location_indicator)))\n",
            "/usr/local/lib/python3.11/site-packages/openmm/app/internal/pdbstructure.py:537: UserWarning: WARNING: duplicate atom (ATOM      3  C   UNL     1     -49.386  -1.036 -20.301  1.00  0.00           C  , ATOM      2  C   UNL     1     -49.477  -0.345 -22.616  1.00  0.00           C  )\n",
            "  warnings.warn(\"WARNING: duplicate atom (%s, %s)\" % (atom, old_atom._pdb_string(old_atom.serial_number, atom.alternate_location_indicator)))\n",
            "/usr/local/lib/python3.11/site-packages/openmm/app/internal/pdbstructure.py:537: UserWarning: WARNING: duplicate atom (ATOM      4  C   UNL     1     -48.481  -1.268 -22.940  1.00  0.00           C  , ATOM      3  C   UNL     1     -49.386  -1.036 -20.301  1.00  0.00           C  )\n",
            "  warnings.warn(\"WARNING: duplicate atom (%s, %s)\" % (atom, old_atom._pdb_string(old_atom.serial_number, atom.alternate_location_indicator)))\n",
            "/usr/local/lib/python3.11/site-packages/openmm/app/internal/pdbstructure.py:537: UserWarning: WARNING: duplicate atom (ATOM      5  C   UNL     1     -48.382  -1.966 -20.611  1.00  0.00           C  , ATOM      4  C   UNL     1     -48.481  -1.268 -22.940  1.00  0.00           C  )\n",
            "  warnings.warn(\"WARNING: duplicate atom (%s, %s)\" % (atom, old_atom._pdb_string(old_atom.serial_number, atom.alternate_location_indicator)))\n",
            "/usr/local/lib/python3.11/site-packages/openmm/app/internal/pdbstructure.py:537: UserWarning: WARNING: duplicate atom (ATOM      6  C   UNL     1     -47.917  -2.099 -21.945  1.00  0.00           C  , ATOM      5  C   UNL     1     -48.382  -1.966 -20.611  1.00  0.00           C  )\n",
            "  warnings.warn(\"WARNING: duplicate atom (%s, %s)\" % (atom, old_atom._pdb_string(old_atom.serial_number, atom.alternate_location_indicator)))\n",
            "/usr/local/lib/python3.11/site-packages/openmm/app/internal/pdbstructure.py:537: UserWarning: WARNING: duplicate atom (ATOM      7  C   UNL     1     -47.831  -2.765 -19.608  1.00  0.00           C  , ATOM      6  C   UNL     1     -47.917  -2.099 -21.945  1.00  0.00           C  )\n",
            "  warnings.warn(\"WARNING: duplicate atom (%s, %s)\" % (atom, old_atom._pdb_string(old_atom.serial_number, atom.alternate_location_indicator)))\n",
            "/usr/local/lib/python3.11/site-packages/openmm/app/internal/pdbstructure.py:537: UserWarning: WARNING: duplicate atom (ATOM      9  C   UNL     1     -46.829  -3.678 -19.917  1.00  0.00           C  , ATOM      7  C   UNL     1     -47.831  -2.765 -19.608  1.00  0.00           C  )\n",
            "  warnings.warn(\"WARNING: duplicate atom (%s, %s)\" % (atom, old_atom._pdb_string(old_atom.serial_number, atom.alternate_location_indicator)))\n",
            "/usr/local/lib/python3.11/site-packages/openmm/app/internal/pdbstructure.py:537: UserWarning: WARNING: duplicate atom (ATOM     10  C   UNL     1     -46.382  -3.800 -21.233  1.00  0.00           C  , ATOM      9  C   UNL     1     -46.829  -3.678 -19.917  1.00  0.00           C  )\n",
            "  warnings.warn(\"WARNING: duplicate atom (%s, %s)\" % (atom, old_atom._pdb_string(old_atom.serial_number, atom.alternate_location_indicator)))\n",
            "/usr/local/lib/python3.11/site-packages/openmm/app/internal/pdbstructure.py:537: UserWarning: WARNING: duplicate atom (ATOM     12  C   UNL     1     -46.428  -3.173 -23.582  1.00  0.00           C  , ATOM     10  C   UNL     1     -46.382  -3.800 -21.233  1.00  0.00           C  )\n",
            "  warnings.warn(\"WARNING: duplicate atom (%s, %s)\" % (atom, old_atom._pdb_string(old_atom.serial_number, atom.alternate_location_indicator)))\n",
            "/usr/local/lib/python3.11/site-packages/openmm/app/internal/pdbstructure.py:537: UserWarning: WARNING: duplicate atom (ATOM     13  C   UNL     1     -45.460  -2.250 -24.013  1.00  0.00           C  , ATOM     12  C   UNL     1     -46.428  -3.173 -23.582  1.00  0.00           C  )\n",
            "  warnings.warn(\"WARNING: duplicate atom (%s, %s)\" % (atom, old_atom._pdb_string(old_atom.serial_number, atom.alternate_location_indicator)))\n",
            "/usr/local/lib/python3.11/site-packages/openmm/app/internal/pdbstructure.py:537: UserWarning: WARNING: duplicate atom (ATOM     14  C   UNL     1     -46.863  -4.199 -24.475  1.00  0.00           C  , ATOM     13  C   UNL     1     -45.460  -2.250 -24.013  1.00  0.00           C  )\n",
            "  warnings.warn(\"WARNING: duplicate atom (%s, %s)\" % (atom, old_atom._pdb_string(old_atom.serial_number, atom.alternate_location_indicator)))\n",
            "/usr/local/lib/python3.11/site-packages/openmm/app/internal/pdbstructure.py:537: UserWarning: WARNING: duplicate atom (ATOM     15  C   UNL     1     -44.932  -2.316 -25.302  1.00  0.00           C  , ATOM     14  C   UNL     1     -46.863  -4.199 -24.475  1.00  0.00           C  )\n",
            "  warnings.warn(\"WARNING: duplicate atom (%s, %s)\" % (atom, old_atom._pdb_string(old_atom.serial_number, atom.alternate_location_indicator)))\n",
            "/usr/local/lib/python3.11/site-packages/openmm/app/internal/pdbstructure.py:537: UserWarning: WARNING: duplicate atom (ATOM     16  C   UNL     1     -46.316  -4.241 -25.766  1.00  0.00           C  , ATOM     15  C   UNL     1     -44.932  -2.316 -25.302  1.00  0.00           C  )\n",
            "  warnings.warn(\"WARNING: duplicate atom (%s, %s)\" % (atom, old_atom._pdb_string(old_atom.serial_number, atom.alternate_location_indicator)))\n",
            "/usr/local/lib/python3.11/site-packages/openmm/app/internal/pdbstructure.py:537: UserWarning: WARNING: duplicate atom (ATOM     18  C   UNL     1     -45.362  -3.309 -26.181  1.00  0.00           C  , ATOM     16  C   UNL     1     -46.316  -4.241 -25.766  1.00  0.00           C  )\n",
            "  warnings.warn(\"WARNING: duplicate atom (%s, %s)\" % (atom, old_atom._pdb_string(old_atom.serial_number, atom.alternate_location_indicator)))\n",
            "/usr/local/lib/python3.11/site-packages/openmm/app/internal/pdbstructure.py:537: UserWarning: WARNING: duplicate atom (ATOM     20  O   UNL     1     -47.761  -5.180 -24.177  1.00  0.00           O  , ATOM     11  O   UNL     1     -45.500  -4.607 -21.483  1.00  0.00           O  )\n",
            "  warnings.warn(\"WARNING: duplicate atom (%s, %s)\" % (atom, old_atom._pdb_string(old_atom.serial_number, atom.alternate_location_indicator)))\n",
            "/usr/local/lib/python3.11/site-packages/openmm/app/internal/pdbstructure.py:537: UserWarning: WARNING: duplicate atom (ATOM     21  C   UNL     1     -47.540  -6.487 -23.803  1.00  0.00           C  , ATOM     18  C   UNL     1     -45.362  -3.309 -26.181  1.00  0.00           C  )\n",
            "  warnings.warn(\"WARNING: duplicate atom (%s, %s)\" % (atom, old_atom._pdb_string(old_atom.serial_number, atom.alternate_location_indicator)))\n",
            "/usr/local/lib/python3.11/site-packages/openmm/app/internal/pdbstructure.py:537: UserWarning: WARNING: duplicate atom (ATOM     23  O   UNL     1     -50.711   2.220 -20.186  1.00  0.00           O  , ATOM     20  O   UNL     1     -47.761  -5.180 -24.177  1.00  0.00           O  )\n",
            "  warnings.warn(\"WARNING: duplicate atom (%s, %s)\" % (atom, old_atom._pdb_string(old_atom.serial_number, atom.alternate_location_indicator)))\n",
            "/usr/local/lib/python3.11/site-packages/openmm/app/internal/pdbstructure.py:537: UserWarning: WARNING: duplicate atom (ATOM     24  O   UNL     1     -52.201   0.390 -19.843  1.00  0.00           O  , ATOM     23  O   UNL     1     -50.711   2.220 -20.186  1.00  0.00           O  )\n",
            "  warnings.warn(\"WARNING: duplicate atom (%s, %s)\" % (atom, old_atom._pdb_string(old_atom.serial_number, atom.alternate_location_indicator)))\n",
            "/usr/local/lib/python3.11/site-packages/openmm/app/internal/pdbstructure.py:537: UserWarning: WARNING: duplicate atom (ATOM     25  N   UNL     1     -52.243   1.516 -22.197  1.00  0.00           N  , ATOM      8  N   UNL     1     -46.935  -3.025 -22.238  1.00  0.00           N  )\n",
            "  warnings.warn(\"WARNING: duplicate atom (%s, %s)\" % (atom, old_atom._pdb_string(old_atom.serial_number, atom.alternate_location_indicator)))\n",
            "/usr/local/lib/python3.11/site-packages/openmm/app/internal/pdbstructure.py:537: UserWarning: WARNING: duplicate atom (ATOM     27  C   UNL     1     -50.570   2.412 -25.323  1.00  0.00           C  , ATOM     21  C   UNL     1     -47.540  -6.487 -23.803  1.00  0.00           C  )\n",
            "  warnings.warn(\"WARNING: duplicate atom (%s, %s)\" % (atom, old_atom._pdb_string(old_atom.serial_number, atom.alternate_location_indicator)))\n",
            "/usr/local/lib/python3.11/site-packages/openmm/app/internal/pdbstructure.py:537: UserWarning: WARNING: duplicate atom (ATOM     28  N   UNL     1     -51.052   1.489 -26.193  1.00  0.00           N  , ATOM     25  N   UNL     1     -52.243   1.516 -22.197  1.00  0.00           N  )\n",
            "  warnings.warn(\"WARNING: duplicate atom (%s, %s)\" % (atom, old_atom._pdb_string(old_atom.serial_number, atom.alternate_location_indicator)))\n",
            "/usr/local/lib/python3.11/site-packages/openmm/app/internal/pdbstructure.py:537: UserWarning: WARNING: duplicate atom (ATOM     29  N   UNL     1     -50.973   2.401 -24.026  1.00  0.00           N  , ATOM     28  N   UNL     1     -51.052   1.489 -26.193  1.00  0.00           N  )\n",
            "  warnings.warn(\"WARNING: duplicate atom (%s, %s)\" % (atom, old_atom._pdb_string(old_atom.serial_number, atom.alternate_location_indicator)))\n",
            "/usr/local/lib/python3.11/site-packages/openmm/app/internal/pdbstructure.py:537: UserWarning: WARNING: duplicate atom (ATOM     30  C   UNL     1     -51.941   0.541 -25.788  1.00  0.00           C  , ATOM     27  C   UNL     1     -50.570   2.412 -25.323  1.00  0.00           C  )\n",
            "  warnings.warn(\"WARNING: duplicate atom (%s, %s)\" % (atom, old_atom._pdb_string(old_atom.serial_number, atom.alternate_location_indicator)))\n",
            "/usr/local/lib/python3.11/site-packages/openmm/app/internal/pdbstructure.py:537: UserWarning: WARNING: duplicate atom (ATOM     31  C   UNL     1     -51.859   1.477 -23.567  1.00  0.00           C  , ATOM     30  C   UNL     1     -51.941   0.541 -25.788  1.00  0.00           C  )\n",
            "  warnings.warn(\"WARNING: duplicate atom (%s, %s)\" % (atom, old_atom._pdb_string(old_atom.serial_number, atom.alternate_location_indicator)))\n",
            "/usr/local/lib/python3.11/site-packages/openmm/app/internal/pdbstructure.py:537: UserWarning: WARNING: duplicate atom (ATOM     32  C   UNL     1     -52.364   0.516 -24.459  1.00  0.00           C  , ATOM     31  C   UNL     1     -51.859   1.477 -23.567  1.00  0.00           C  )\n",
            "  warnings.warn(\"WARNING: duplicate atom (%s, %s)\" % (atom, old_atom._pdb_string(old_atom.serial_number, atom.alternate_location_indicator)))\n",
            "/usr/local/lib/python3.11/site-packages/openmm/app/internal/pdbstructure.py:537: UserWarning: WARNING: duplicate atom (ATOM     33  O   UNL     1     -52.422  -0.380 -26.655  1.00  0.00           O  , ATOM     24  O   UNL     1     -52.201   0.390 -19.843  1.00  0.00           O  )\n",
            "  warnings.warn(\"WARNING: duplicate atom (%s, %s)\" % (atom, old_atom._pdb_string(old_atom.serial_number, atom.alternate_location_indicator)))\n",
            "/usr/local/lib/python3.11/site-packages/openmm/app/internal/pdbstructure.py:537: UserWarning: WARNING: duplicate atom (ATOM     34  C   UNL     1     -51.653  -1.366 -27.236  1.00  0.00           C  , ATOM     32  C   UNL     1     -52.364   0.516 -24.459  1.00  0.00           C  )\n",
            "  warnings.warn(\"WARNING: duplicate atom (%s, %s)\" % (atom, old_atom._pdb_string(old_atom.serial_number, atom.alternate_location_indicator)))\n"
          ]
        }
      ],
      "source": [
        "# prepare protein and build only missing non-terminal residues\n",
        "prepared_protein = prepare_protein(pdb_path, ignore_missing_residues=False)"
      ]
    },
    {
      "cell_type": "markdown",
      "metadata": {
        "id": "_wR47KGjnP2O"
      },
      "source": [
        "#### Prepare ligand"
      ]
    },
    {
      "cell_type": "markdown",
      "metadata": {
        "id": "8VoOjhASZ4Jh"
      },
      "source": [
        "After preparing the protein, we turn our attention to the ligand. Again, we need to add hydrogens, but also need to make sure the bond orders are correctly assigned, since some PDB entries may contain errors. We use the Python package [RDKit](https://github.com/rdkit/rdkit), an open source cheminformatics library.\n",
        "We will provide the correct protonation state and bond orders to [RDKit](https://github.com/rdkit/rdkit) via a SMILES string. Uncharged isomeric SMILES strings for each co-crystallized ligand can be found in their respective [PDB](https://www.rcsb.org) entry. The ligand of PDB entry [3POZ](https://www.rcsb.org/structure/3poz) has the name [03P](https://www.rcsb.org/ligand/03P). If a ligand is likely to bind in its charged form or as a specific tautomer, such characteristics need to be incorporated into the SMILES string."
      ]
    },
    {
      "cell_type": "code",
      "execution_count": 9,
      "metadata": {
        "id": "si7ARKHoabal"
      },
      "outputs": [],
      "source": [
        "def prepare_ligand(pdb_file, resname, smiles, depict=True):\n",
        "    \"\"\"\n",
        "    Prepare a ligand from a PDB file via adding hydrogens and assigning bond orders. A depiction\n",
        "    of the ligand before and after preparation is rendered in 2D to allow an inspection of the\n",
        "    results. Huge thanks to @j-wags for the suggestion.\n",
        "\n",
        "    Parameters\n",
        "    ----------\n",
        "    pdb_file: pathlib.PosixPath\n",
        "       PDB file containing the ligand of interest.\n",
        "    resname: str\n",
        "        Three character residue name of the ligand.\n",
        "    smiles : str\n",
        "        SMILES string of the ligand informing about correct protonation and bond orders.\n",
        "    depict: bool, optional\n",
        "        show a 2D representation of the ligand\n",
        "\n",
        "    Returns\n",
        "    -------\n",
        "    prepared_ligand: rdkit.Chem.rdchem.Mol\n",
        "        Prepared ligand.\n",
        "    \"\"\"\n",
        "    # split molecule\n",
        "    rdkit_mol = Chem.MolFromPDBFile(str(pdb_file))\n",
        "    rdkit_mol_split = Chem.rdmolops.SplitMolByPDBResidues(rdkit_mol)\n",
        "\n",
        "    # extract the ligand and remove any already present hydrogens\n",
        "    ligand = rdkit_mol_split[resname]\n",
        "    ligand = Chem.RemoveHs(ligand)\n",
        "\n",
        "    # assign bond orders from template\n",
        "    reference_mol = Chem.MolFromSmiles(smiles)\n",
        "    prepared_ligand = AllChem.AssignBondOrdersFromTemplate(reference_mol, ligand)\n",
        "    prepared_ligand.AddConformer(ligand.GetConformer(0))\n",
        "\n",
        "    # protonate ligand\n",
        "    prepared_ligand = Chem.rdmolops.AddHs(prepared_ligand, addCoords=True)\n",
        "    prepared_ligand = Chem.MolFromMolBlock(Chem.MolToMolBlock(prepared_ligand))\n",
        "\n",
        "    # 2D depiction\n",
        "    if depict:\n",
        "        ligand_2d = copy.deepcopy(ligand)\n",
        "        prepared_ligand_2d = copy.deepcopy(prepared_ligand)\n",
        "        AllChem.Compute2DCoords(ligand_2d)\n",
        "        AllChem.Compute2DCoords(prepared_ligand_2d)\n",
        "        display(\n",
        "            Draw.MolsToGridImage(\n",
        "                [ligand_2d, prepared_ligand_2d], molsPerRow=2, legends=[\"original\", \"prepared\"]\n",
        "            )\n",
        "        )\n",
        "\n",
        "    # return ligand\n",
        "    return prepared_ligand"
      ]
    },
    {
      "cell_type": "markdown",
      "metadata": {
        "id": "GkqslZRknFbq"
      },
      "source": [
        "Calling this function with the isomeric SMILES string taken from the PDB entry for [03P](https://www.rcsb.org/ligand/03P) returns a correctly prepared ligand. Printed is a 2D-representation of the original and the prepared ligand for inspection."
      ]
    },
    {
      "cell_type": "code",
      "execution_count": 10,
      "metadata": {
        "colab": {
          "base_uri": "https://localhost:8080/",
          "height": 217
        },
        "id": "04v75eTlcEtx",
        "outputId": "7200d89b-1aa3-4a55-fbc8-ff7b9b926a85",
        "tags": [
          "nbsphinx-thumbnail"
        ]
      },
      "outputs": [
        {
          "output_type": "display_data",
          "data": {
            "image/png": "[encoded data removed]",
            "text/plain": [
              "<IPython.core.display.Image object>"
            ]
          },
          "metadata": {}
        }
      ],
      "source": [
        "smiles = \"COc1cc(NS(=O)(=O)c2ccc3c(ccc(=O)n3-c3cc(F)c(Br)cc3OC)c2)ncn1\"\n",
        "rdkit_ligand = prepare_ligand(pdb_path, ligand_name, smiles)"
      ]
    },
    {
      "cell_type": "markdown",
      "metadata": {
        "id": "NP9WekSTO5N3"
      },
      "source": [
        "#### Merge protein and ligand\n",
        "\n",
        "In the next step, we want to merge the prepared protein and ligand structures using the Python package [MDTraj](https://github.com/mdtraj/mdtraj). [MDTraj](https://github.com/mdtraj/mdtraj) can handle the prepared protein, which is currently a [PDBFixer](https://github.com/openmm/pdbfixer) molecule, a format that has a topology and atom positions similar to and usually interchangeable with [OpenMM Modeller](http://docs.openmm.org/latest/userguide/application.html#model-building-and-editing) topologies and positions. For the ligand however, we need to do several conversions, since it is currently an [RDKit](https://github.com/rdkit/rdkit) molecule."
      ]
    },
    {
      "cell_type": "code",
      "execution_count": 11,
      "metadata": {
        "id": "UwehzZrhpDnD"
      },
      "outputs": [],
      "source": [
        "def rdkit_to_openmm(rdkit_mol, name=\"LIG\"):\n",
        "    \"\"\"\n",
        "    Convert an RDKit molecule to an OpenMM molecule.\n",
        "    Inspired by @hannahbrucemcdonald and @glass-w.\n",
        "\n",
        "    Parameters\n",
        "    ----------\n",
        "    rdkit_mol: rdkit.Chem.rdchem.Mol\n",
        "        RDKit molecule to convert.\n",
        "    name: str\n",
        "        Molecule name.\n",
        "\n",
        "    Returns\n",
        "    -------\n",
        "    omm_molecule: openmm.app.Modeller\n",
        "        OpenMM modeller object holding the molecule of interest.\n",
        "    \"\"\"\n",
        "    # convert RDKit to OpenFF\n",
        "    off_mol = Molecule.from_rdkit(rdkit_mol)\n",
        "\n",
        "    # add name for molecule\n",
        "    off_mol.name = name\n",
        "\n",
        "    # add names for atoms\n",
        "    element_counter_dict = {}\n",
        "    for off_atom, rdkit_atom in zip(off_mol.atoms, rdkit_mol.GetAtoms()):\n",
        "        element = rdkit_atom.GetSymbol()\n",
        "        if element in element_counter_dict.keys():\n",
        "            element_counter_dict[element] += 1\n",
        "        else:\n",
        "            element_counter_dict[element] = 1\n",
        "        off_atom.name = element + str(element_counter_dict[element])\n",
        "\n",
        "    # convert from OpenFF to OpenMM\n",
        "    off_mol_topology = off_mol.to_topology()\n",
        "    mol_topology = off_mol_topology.to_openmm()\n",
        "    mol_positions = off_mol.conformers[0]\n",
        "\n",
        "    # convert units from Ångström to nanometers\n",
        "    # since OpenMM works in nm\n",
        "    mol_positions = mol_positions.to(\"nanometers\")\n",
        "\n",
        "    # combine topology and positions in modeller object\n",
        "    omm_mol = app.Modeller(mol_topology, mol_positions)\n",
        "\n",
        "    return omm_mol"
      ]
    },
    {
      "cell_type": "code",
      "execution_count": 12,
      "metadata": {
        "id": "I77OHmv47vEN"
      },
      "outputs": [],
      "source": [
        "omm_ligand = rdkit_to_openmm(rdkit_ligand, ligand_name)"
      ]
    },
    {
      "cell_type": "markdown",
      "metadata": {
        "id": "dqY5AE0JGIgL"
      },
      "source": [
        "Now protein and ligand are both in [OpenMM](https://github.com/openmm/openmm) like formats and can be merged with [MDTraj](https://github.com/mdtraj/mdtraj)."
      ]
    },
    {
      "cell_type": "code",
      "execution_count": 13,
      "metadata": {
        "id": "8gJMRq8fZYOU"
      },
      "outputs": [],
      "source": [
        "def merge_protein_and_ligand(protein, ligand):\n",
        "    \"\"\"\n",
        "    Merge two OpenMM objects.\n",
        "\n",
        "    Parameters\n",
        "    ----------\n",
        "    protein: pdbfixer.pdbfixer.PDBFixer\n",
        "        Protein to merge.\n",
        "    ligand: openmm.app.Modeller\n",
        "        Ligand to merge.\n",
        "\n",
        "    Returns\n",
        "    -------\n",
        "    complex_topology: openmm.app.topology.Topology\n",
        "        The merged topology.\n",
        "    complex_positions: openmm.unit.quantity.Quantity\n",
        "        The merged positions.\n",
        "    \"\"\"\n",
        "    # combine topologies\n",
        "    md_protein_topology = md.Topology.from_openmm(protein.topology)  # using mdtraj for protein top\n",
        "    md_ligand_topology = md.Topology.from_openmm(ligand.topology)  # using mdtraj for ligand top\n",
        "    md_complex_topology = md_protein_topology.join(md_ligand_topology)  # add them together\n",
        "    complex_topology = md_complex_topology.to_openmm()\n",
        "\n",
        "    # combine positions\n",
        "    total_atoms = len(protein.positions) + len(ligand.positions)\n",
        "\n",
        "    # create an array for storing all atom positions as tupels containing a value and a unit\n",
        "    # called OpenMM Quantities\n",
        "    complex_positions = unit.Quantity(np.zeros([total_atoms, 3]), unit=unit.nanometers)\n",
        "    complex_positions[: len(protein.positions)] = protein.positions  # add protein positions\n",
        "    complex_positions[len(protein.positions) :] = ligand.positions  # add ligand positions\n",
        "\n",
        "    return complex_topology, complex_positions"
      ]
    },
    {
      "cell_type": "code",
      "execution_count": 14,
      "metadata": {
        "id": "ZXmeeV0ZPOho",
        "outputId": "ec4f8c95-4df3-48c3-9958-b44fc2d47228",
        "colab": {
          "base_uri": "https://localhost:8080/"
        }
      },
      "outputs": [
        {
          "output_type": "stream",
          "name": "stderr",
          "text": [
            "/usr/local/lib/python3.11/site-packages/openmm/unit/quantity.py:753: UnitStrippedWarning: The unit of the quantity is stripped when downcasting to ndarray.\n",
            "  self._value[key] = value / self.unit\n"
          ]
        }
      ],
      "source": [
        "complex_topology, complex_positions = merge_protein_and_ligand(prepared_protein, omm_ligand)"
      ]
    },
    {
      "cell_type": "code",
      "execution_count": 15,
      "metadata": {
        "id": "Jk8-gnAQ6Zqt",
        "outputId": "b25075e1-325b-4353-849c-c1a10b60e5ea",
        "colab": {
          "base_uri": "https://localhost:8080/"
        }
      },
      "outputs": [
        {
          "output_type": "stream",
          "name": "stdout",
          "text": [
            "Complex topology has 4946 atoms.\n"
          ]
        }
      ],
      "source": [
        "print(\"Complex topology has\", complex_topology.getNumAtoms(), \"atoms.\")\n",
        "# NBVAL_CHECK_OUTPUT"
      ]
    },
    {
      "cell_type": "markdown",
      "metadata": {
        "id": "2HAmjMG5Lgpd"
      },
      "source": [
        "### MD simulation set up\n",
        "\n",
        "We can now use the prepared complex to set up the MD simulation."
      ]
    },
    {
      "cell_type": "markdown",
      "metadata": {
        "id": "1B9DRdICny_f"
      },
      "source": [
        "#### Force field\n",
        "\n",
        "Common force fields like AMBER have parameters for amino acids, nucleic acids, water and ions and usually offer several options to choose from depending on your aim. We use the `amber14-all.xml` force field file, which is shipped with OpenMM and includes parameters for proteins, DNA, RNA and lipids. For solvation we use the standard three-site [water model](https://en.wikipedia.org/wiki/Water_model) [**TIP3P**](https://aip.scitation.org/doi/10.1063/1.445869).\n",
        "\n",
        "Parameters for ligands however are not included. To generate these parameters, we can use the **G**eneral **A**MBER **F**orce**F**ield ([GAFF](http://ambermd.org/antechamber/gaff.html)), which is implemented in the Python package [OpenMM Forcefields](https://github.com/openmm/openmmforcefields). The following function generates a force field object holding standard AMBER parameters and additionally includes parameters for a small molecule if required."
      ]
    },
    {
      "cell_type": "code",
      "execution_count": 16,
      "metadata": {
        "id": "EFHKhU6v1k-h"
      },
      "outputs": [],
      "source": [
        "def generate_forcefield(\n",
        "    rdkit_mol=None, protein_ff=\"amber14-all.xml\", solvent_ff=\"amber14/tip3pfb.xml\"\n",
        "):\n",
        "    \"\"\"\n",
        "    Generate an OpenMM Forcefield object and register a small molecule.\n",
        "\n",
        "    Parameters\n",
        "    ----------\n",
        "    rdkit_mol: rdkit.Chem.rdchem.Mol\n",
        "        Small molecule to register in the force field.\n",
        "    protein_ff: string\n",
        "        Name of the force field.\n",
        "    solvent_ff: string\n",
        "        Name of the solvent force field.\n",
        "\n",
        "    Returns\n",
        "    -------\n",
        "    forcefield: openmm.app.Forcefield\n",
        "        Forcefield with registered small molecule.\n",
        "    \"\"\"\n",
        "    forcefield = app.ForceField(protein_ff, solvent_ff)\n",
        "\n",
        "    if rdkit_mol is not None:\n",
        "        gaff = GAFFTemplateGenerator(\n",
        "            molecules=Molecule.from_rdkit(rdkit_mol, allow_undefined_stereo=True)\n",
        "        )\n",
        "        forcefield.registerTemplateGenerator(gaff.generator)\n",
        "\n",
        "    return forcefield"
      ]
    },
    {
      "cell_type": "code",
      "execution_count": 17,
      "metadata": {
        "id": "5is-oVrO2Fjy"
      },
      "outputs": [],
      "source": [
        "forcefield = generate_forcefield(rdkit_ligand)"
      ]
    },
    {
      "cell_type": "markdown",
      "metadata": {
        "id": "cGrreylan6XS"
      },
      "source": [
        "#### System"
      ]
    },
    {
      "cell_type": "markdown",
      "metadata": {
        "id": "DzO12MFp2P48"
      },
      "source": [
        "With our configured force field we can now  use the  [OpenMM Modeller](http://docs.openmm.org/latest/userguide/application.html#model-building-and-editing) class to create the MD environment, a simulation box which contains the complex and is filled with a solvent. The standard solvent is water with a specified amount of ions. The size of the box can be determined in various ways. We define it with a padding, which results in a cubic box with dimensions dependent on the largest dimension of the complex.\n",
        "\n",
        "> Note this step can take a long time, in the order of minutes, depending on your hardware."
      ]
    },
    {
      "cell_type": "code",
      "execution_count": 18,
      "metadata": {
        "id": "c4LEvWMI8ash"
      },
      "outputs": [],
      "source": [
        "modeller = app.Modeller(complex_topology, complex_positions)\n",
        "modeller.addSolvent(forcefield, padding=1.0 * unit.nanometers, ionicStrength=0.15 * unit.molar)"
      ]
    },
    {
      "cell_type": "markdown",
      "metadata": {
        "id": "TwAEe5d8n4jf"
      },
      "source": [
        "With our solvated system and force field, we can finally create an [OpenMM System](http://docs.openmm.org/development/api-python/generated/openmm.openmm.System.html#openmm.openmm.System) and set up the simulation.\n",
        "Additionally to the system the simulation needs an integrator. An [OpenMM Integrator](http://docs.openmm.org/development/api-python/library.html#integrators) defines a method for simulating a system by integrating the equations of motion. The chosen **Langevin Integrator** uses Langevin equations. A list of all different kinds of integrators can be found in the [OpenMM Docs](http://docs.openmm.org/development/api-python/library.html#integrators). For further insight into the **Langevin Integrator**, we recommend reading about Langevin equations, e.g. on [Wikipedia](https://en.wikipedia.org/wiki/Langevin_equation)."
      ]
    },
    {
      "cell_type": "code",
      "execution_count": 19,
      "metadata": {
        "id": "n52Cmkr4dpI-"
      },
      "outputs": [],
      "source": [
        "system = forcefield.createSystem(modeller.topology, nonbondedMethod=app.PME)\n",
        "integrator = mm.LangevinIntegrator(\n",
        "    300 * unit.kelvin, 1.0 / unit.picoseconds, 2.0 * unit.femtoseconds\n",
        ")\n",
        "simulation = app.Simulation(modeller.topology, system, integrator)\n",
        "simulation.context.setPositions(modeller.positions)"
      ]
    },
    {
      "cell_type": "markdown",
      "metadata": {
        "id": "JwEgrFkILgqL"
      },
      "source": [
        "### Perform the MD simulation\n",
        "Now that everything is set up, we can perform the simulation. We need to set starting positions and minimize the energy of the system to get a low energy starting configuration, which is important to decrease the chance of simulation failures due to severe atom clashes. The energy minimized system is saved."
      ]
    },
    {
      "cell_type": "code",
      "execution_count": 20,
      "metadata": {
        "id": "EgkE1EUGLgqP"
      },
      "outputs": [],
      "source": [
        "simulation.minimizeEnergy()\n",
        "with open(DATA / \"topology.pdb\", \"w\") as pdb_file:\n",
        "    app.PDBFile.writeFile(\n",
        "        simulation.topology,\n",
        "        simulation.context.getState(getPositions=True, enforcePeriodicBox=True).getPositions(),\n",
        "        file=pdb_file,\n",
        "        keepIds=True,\n",
        "    )"
      ]
    },
    {
      "cell_type": "markdown",
      "metadata": {
        "id": "KAwpxWM7ozSo"
      },
      "source": [
        "Once the minimization has finished, we can perform the MD simulation. In this talktorial, we will do a short simulation for illustration. Simulations for research purposes span several nanoseconds, even up to microseconds. We will simulate only 100 ps of molecular dynamics corresponding to 50k steps of 2 fs each. We save molecular \"snapshots\" every 10 ps (5000 steps), for a total of 10 frames. The results are saved in an .xtc file, which contains the coordinates of all the atoms at a given time point. Together with the PDB file of the energy minimized system written before, it gives us all the information needed for later analysis.\n",
        "\n",
        "**Note**: This talktorial will only generate a 20 fs trajectory, if not on Google Colab. However, if you have a good GPU available, you can also increase the simulation time."
      ]
    },
    {
      "cell_type": "code",
      "execution_count": 21,
      "metadata": {
        "id": "E8t-0ZxFLgqh"
      },
      "outputs": [],
      "source": [
        "# output settings\n",
        "if on_colab:\n",
        "    steps = 50000  # corresponds to 100 ps\n",
        "    write_interval = 5000  # write every 10 ps\n",
        "    log_interval = 2500  # log progress to stdout every 5 ps\n",
        "else:\n",
        "    steps = 10  # corresponds to 20 fs\n",
        "    write_interval = 1  # write every 2 fs\n",
        "    log_interval = 1  # log progress to stdout every 2 fs\n",
        "simulation.reporters.append(\n",
        "    md.reporters.XTCReporter(file=str(DATA / \"trajectory.xtc\"), reportInterval=write_interval)\n",
        ")\n",
        "simulation.reporters.append(\n",
        "    app.StateDataReporter(\n",
        "        sys.stdout,\n",
        "        log_interval,\n",
        "        step=True,\n",
        "        potentialEnergy=True,\n",
        "        temperature=True,\n",
        "        progress=True,\n",
        "        remainingTime=True,\n",
        "        speed=True,\n",
        "        totalSteps=steps,\n",
        "        separator=\"\\t\",\n",
        "    )\n",
        ")"
      ]
    },
    {
      "cell_type": "markdown",
      "metadata": {
        "id": "J3gGRFBFozSp"
      },
      "source": [
        "The velocities for all particles in the system are randomly chosen from a distribution at the given temperature. We chose 300 Kelvin, which is some degrees above room temperature.\n",
        "A random seed is generated, but could be explicitly given to reproduce results.\n",
        "\n",
        "Then the simulation is performed by taking the steps defined before."
      ]
    },
    {
      "cell_type": "code",
      "execution_count": 22,
      "metadata": {
        "colab": {
          "base_uri": "https://localhost:8080/"
        },
        "id": "7B7AiVO3fr03",
        "outputId": "e1abdf08-52b8-4690-e336-53a2dba153a3"
      },
      "outputs": [
        {
          "output_type": "stream",
          "name": "stdout",
          "text": [
            "#\"Progress (%)\"\t\"Step\"\t\"Potential Energy (kJ/mole)\"\t\"Temperature (K)\"\t\"Speed (ns/day)\"\t\"Time Remaining\"\n",
            "5.0%\t2500\t-729788.2931046315\t299.01846278096394\t0\t--\n",
            "10.0%\t5000\t-725251.3457421763\t300.9475354436017\t1.79\t1:12:30\n",
            "15.0%\t7500\t-727132.4256255606\t300.84944388169964\t1.79\t1:08:18\n",
            "20.0%\t10000\t-726869.0377019285\t300.6432847266324\t1.79\t1:04:17\n",
            "25.0%\t12500\t-726753.4291196745\t301.57414198266054\t1.79\t1:00:19\n",
            "30.0%\t15000\t-726402.4817070074\t300.8013745376309\t1.79\t56:18\n",
            "35.0%\t17500\t-727747.7597558895\t298.63826534252047\t1.79\t52:18\n",
            "40.0%\t20000\t-728167.2741096476\t300.859160247181\t1.79\t48:19\n",
            "45.0%\t22500\t-728620.125085786\t301.8738935034125\t1.79\t44:18\n",
            "50.0%\t25000\t-728914.6549813247\t301.40167153621366\t1.79\t40:17\n",
            "55.0%\t27500\t-728466.4559389596\t299.9568656468898\t1.79\t36:16\n",
            "60.0%\t30000\t-728495.9111675607\t299.025963520399\t1.79\t32:15\n",
            "65.0%\t32500\t-726449.7743338047\t298.67680202377824\t1.78\t28:14\n",
            "70.0%\t35000\t-728561.8512087038\t302.6903447192137\t1.79\t24:11\n",
            "75.0%\t37500\t-726863.2058861447\t299.3204566457569\t1.79\t20:09\n",
            "80.0%\t40000\t-728413.9161089486\t301.8878788275488\t1.79\t16:07\n",
            "85.0%\t42500\t-728248.5904747196\t299.962737384875\t1.79\t12:05\n",
            "90.0%\t45000\t-728866.3142964193\t300.2141404462691\t1.79\t8:03\n",
            "95.0%\t47500\t-727514.4982991806\t300.5207876859217\t1.79\t4:01\n",
            "100.0%\t50000\t-727143.1294722348\t301.42515073658257\t1.79\t0:00\n"
          ]
        }
      ],
      "source": [
        "simulation.context.setVelocitiesToTemperature(300 * unit.kelvin)\n",
        "simulation.step(steps)  # perform the simulation"
      ]
    },
    {
      "cell_type": "code",
      "execution_count": 23,
      "metadata": {
        "id": "euem_ON-6Zqu",
        "outputId": "e8bdbd47-dda9-4334-b032-bbe9250e629f",
        "colab": {
          "base_uri": "https://localhost:8080/"
        }
      },
      "outputs": [
        {
          "output_type": "execute_result",
          "data": {
            "text/plain": [
              "True"
            ]
          },
          "metadata": {},
          "execution_count": 23
        }
      ],
      "source": [
        "# Check the trajectory exists and is not empty\n",
        "(DATA / \"trajectory.xtc\").stat().st_size > 0\n",
        "# NBVAL_CHECK_OUTPUT"
      ]
    },
    {
      "cell_type": "markdown",
      "metadata": {
        "id": "M_Wf2prXqoif"
      },
      "source": [
        "### Download results\n",
        "\n",
        "You can execute the following cell if you are working on Google Colab to download the MD simulation results."
      ]
    },
    {
      "cell_type": "code",
      "execution_count": 24,
      "metadata": {
        "id": "FfcMX8G1i0RY",
        "outputId": "ce851d6c-5ea6-4ab7-92d3-3d9f2a71353c",
        "colab": {
          "base_uri": "https://localhost:8080/",
          "height": 17
        }
      },
      "outputs": [
        {
          "output_type": "display_data",
          "data": {
            "text/plain": [
              "<IPython.core.display.Javascript object>"
            ],
            "application/javascript": [
              "\n",
              "    async function download(id, filename, size) {\n",
              "      if (!google.colab.kernel.accessAllowed) {\n",
              "        return;\n",
              "      }\n",
              "      const div = document.createElement('div');\n",
              "      const label = document.createElement('label');\n",
              "      label.textContent = `Downloading \"${filename}\": `;\n",
              "      div.appendChild(label);\n",
              "      const progress = document.createElement('progress');\n",
              "      progress.max = size;\n",
              "      div.appendChild(progress);\n",
              "      document.body.appendChild(div);\n",
              "\n",
              "      const buffers = [];\n",
              "      let downloaded = 0;\n",
              "\n",
              "      const channel = await google.colab.kernel.comms.open(id);\n",
              "      // Send a message to notify the kernel that we're ready.\n",
              "      channel.send({})\n",
              "\n",
              "      for await (const message of channel.messages) {\n",
              "        // Send a message to notify the kernel that we're ready.\n",
              "        channel.send({})\n",
              "        if (message.buffers) {\n",
              "          for (const buffer of message.buffers) {\n",
              "            buffers.push(buffer);\n",
              "            downloaded += buffer.byteLength;\n",
              "            progress.value = downloaded;\n",
              "          }\n",
              "        }\n",
              "      }\n",
              "      const blob = new Blob(buffers, {type: 'application/binary'});\n",
              "      const a = document.createElement('a');\n",
              "      a.href = window.URL.createObjectURL(blob);\n",
              "      a.download = filename;\n",
              "      div.appendChild(a);\n",
              "      a.click();\n",
              "      div.remove();\n",
              "    }\n",
              "  "
            ]
          },
          "metadata": {}
        },
        {
          "output_type": "display_data",
          "data": {
            "text/plain": [
              "<IPython.core.display.Javascript object>"
            ],
            "application/javascript": [
              "download(\"download_050110c5-041a-4eb8-933e-ee6f280321ce\", \"topology.pdb\", 3733333)"
            ]
          },
          "metadata": {}
        },
        {
          "output_type": "display_data",
          "data": {
            "text/plain": [
              "<IPython.core.display.Javascript object>"
            ],
            "application/javascript": [
              "\n",
              "    async function download(id, filename, size) {\n",
              "      if (!google.colab.kernel.accessAllowed) {\n",
              "        return;\n",
              "      }\n",
              "      const div = document.createElement('div');\n",
              "      const label = document.createElement('label');\n",
              "      label.textContent = `Downloading \"${filename}\": `;\n",
              "      div.appendChild(label);\n",
              "      const progress = document.createElement('progress');\n",
              "      progress.max = size;\n",
              "      div.appendChild(progress);\n",
              "      document.body.appendChild(div);\n",
              "\n",
              "      const buffers = [];\n",
              "      let downloaded = 0;\n",
              "\n",
              "      const channel = await google.colab.kernel.comms.open(id);\n",
              "      // Send a message to notify the kernel that we're ready.\n",
              "      channel.send({})\n",
              "\n",
              "      for await (const message of channel.messages) {\n",
              "        // Send a message to notify the kernel that we're ready.\n",
              "        channel.send({})\n",
              "        if (message.buffers) {\n",
              "          for (const buffer of message.buffers) {\n",
              "            buffers.push(buffer);\n",
              "            downloaded += buffer.byteLength;\n",
              "            progress.value = downloaded;\n",
              "          }\n",
              "        }\n",
              "      }\n",
              "      const blob = new Blob(buffers, {type: 'application/binary'});\n",
              "      const a = document.createElement('a');\n",
              "      a.href = window.URL.createObjectURL(blob);\n",
              "      a.download = filename;\n",
              "      div.appendChild(a);\n",
              "      a.click();\n",
              "      div.remove();\n",
              "    }\n",
              "  "
            ]
          },
          "metadata": {}
        },
        {
          "output_type": "display_data",
          "data": {
            "text/plain": [
              "<IPython.core.display.Javascript object>"
            ],
            "application/javascript": [
              "download(\"download_74b7c55f-03dd-49d4-8964-467fa756ba6d\", \"trajectory.xtc\", 1718440)"
            ]
          },
          "metadata": {}
        }
      ],
      "source": [
        "if on_colab:\n",
        "    files.download(DATA / \"topology.pdb\")\n",
        "    files.download(DATA / \"trajectory.xtc\")"
      ]
    },
    {
      "cell_type": "markdown",
      "metadata": {
        "id": "aAleBNfKyhCd"
      },
      "source": [
        "## Discussion\n",
        "\n",
        "We have successfully performed an MD simulation of a protein ligand complex. However, we simulated only a considerably short time to keep the execution time of the talktorial short. To address critical questions in drug design, longer simulations are often required.  \n",
        "MD simulations are still too computationally costly to be useful for this purpose. Thus, so-called enhanced sampling methods were developed, that aim to accelerate the conformational sampling. Some of the most common methods are discussed in the **Further reading** section below.   \n",
        "Furthermore, we did not include an equilibration step, which is commonly used to slowly heat up the system from 0 to 300 K before starting the simulation and might be important when simulating more sensitive systems including lipid bilayers. The protonation of ligand and protein was done separately, which is suboptimal, since protonation states of protein residues and ligand affect each other. However, we did not find a free and open-source solution meeting all requirements. Suggestions are very welcome!  \n",
        "If you want to learn how to visualize and analyze the trajectory, you can refer to **Talktorial T020** in this repository."
      ]
    },
    {
      "cell_type": "markdown",
      "metadata": {
        "id": "qFsGM5zEozSq"
      },
      "source": [
        "## Quiz\n",
        "\n",
        "* Which inter- and intramolecular forces are being considered in the AMBER force field? Can you think of any forces not taken into account?\n",
        "* Would you expect to see the exact same simulation results when running the notebook twice with the same parameters?\n",
        "* Try doing a short (10ps, snapshot every 1ps) simulation of a protein without a ligand. You can find a broad variety of structures on [PDB](https://www.rcsb.org/) or you can use the EGFR kinase and remove the ligand."
      ]
    },
    {
      "cell_type": "markdown",
      "metadata": {
        "id": "DYy_qmUJF1W6"
      },
      "source": [
        "## Further reading"
      ]
    },
    {
      "cell_type": "markdown",
      "metadata": {
        "id": "IWYS2Q40u_dl"
      },
      "source": [
        "### Enhanced sampling methods\n",
        "\n",
        "In theory, unbiased MD simulations should be capable of simulating binding and unbinding events of a drug molecule and its macromolecular target. However, the timescale of binding and unbinding events lies in the millisecond to second range. Enhanced sampling methods aim to accelerate the conformational sampling ([_J Med Chem._ 2016, **59(9)**, 4035-61](https://doi.org/10.1021/acs.jmedchem.5b01684)).\n",
        "\n",
        "One of these is **Free energy perturbation (FEP)** (also called alchemical free energy calculation), which computes the free energy difference when going from a state A to another state B. It is often employed in lead optimization to evaluate small modification at the ligand, that may boost the binding affinity for the desired target. The ligand from state A is thereby gradually transformed into the ligand of state B by simulating several intermediate (\"alchemical\") states ([alchemistry](http://www.alchemistry.org/wiki/Main_Page)).\n",
        "\n",
        "Another technique for free-energy calculations is **Umbrella sampling (US)**. US enforces sampling along a collective variable (CV) by performing staged simulations with an energetic bias. The bias usually takes the form of a harmonic potential, hence the term \"umbrella\". Its goal is to sample high-energy regions along the CV. However, the use in drug design is limited by the high computational cost.\n",
        "\n",
        "In contrast, **Steered MD (SMD)** follows a different approach: it applies external forces to the system. Those forces are time-dependent and facilitate the unbinding of the ligand from the target. The SMD calculates the final force exerted on the system. The unbinding force profile can then be used to filter hits from docking calculations and to discriminate active from inactive molecules."
      ]
    }
  ],
  "metadata": {
    "accelerator": "GPU",
    "colab": {
      "name": "talktorial.ipynb",
      "provenance": []
    },
    "kernelspec": {
      "display_name": "Python 3 (ipykernel)",
      "language": "python",
      "name": "python3"
    },
    "language_info": {
      "codemirror_mode": {
        "name": "ipython",
        "version": 3
      },
      "file_extension": ".py",
      "mimetype": "text/x-python",
      "name": "python",
      "nbconvert_exporter": "python",
      "pygments_lexer": "ipython3",
      "version": "3.9.16"
    }
  },
  "nbformat": 4,
  "nbformat_minor": 0
}